{
  "nbformat": 4,
  "nbformat_minor": 0,
  "metadata": {
    "colab": {
      "private_outputs": true,
      "provenance": [],
      "authorship_tag": "ABX9TyOxpHd7urX3BJ+duKjeXe2h",
      "include_colab_link": true
    },
    "kernelspec": {
      "name": "python3",
      "display_name": "Python 3"
    },
    "language_info": {
      "name": "python"
    }
  },
  "cells": [
    {
      "cell_type": "markdown",
      "metadata": {
        "id": "view-in-github",
        "colab_type": "text"
      },
      "source": [
        "<a href=\"https://colab.research.google.com/github/alexcpass/python_ad/blob/main/Machine_learning_isis.ipynb\" target=\"_parent\"><img src=\"https://colab.research.google.com/assets/colab-badge.svg\" alt=\"Open In Colab\"/></a>"
      ]
    },
    {
      "cell_type": "markdown",
      "source": [
        "# Modelo simples de projeto de machine learning utilizando Python no Google Colab"
      ],
      "metadata": {
        "id": "m2zCYzQvdREr"
      }
    },
    {
      "cell_type": "markdown",
      "source": [
        "Criaremos um modelo de classificação usando o conjunto de dados Iris, que é um conjunto de dados clássico frequentemente utilizado para fins de aprendizado de máquina."
      ],
      "metadata": {
        "id": "vp1HL4LpdUHa"
      }
    },
    {
      "cell_type": "markdown",
      "source": [
        "Etapa 1: Importar bibliotecas e carregar o conjunto de dados"
      ],
      "metadata": {
        "id": "wtEpn3UOdZhL"
      }
    },
    {
      "cell_type": "code",
      "source": [
        "import numpy as np\n",
        "import pandas as pd\n",
        "import matplotlib.pyplot as plt\n",
        "from sklearn.model_selection import train_test_split\n",
        "from sklearn.preprocessing import LabelEncoder\n",
        "from sklearn.ensemble import RandomForestClassifier\n",
        "from sklearn.metrics import accuracy_score, classification_report, confusion_matrix\n",
        "\n",
        "url = \"https://archive.ics.uci.edu/ml/machine-learning-databases/iris/iris.data\"\n",
        "columns = [\"sepal_length\", \"sepal_width\", \"petal_length\", \"petal_width\", \"class\"]\n",
        "df = pd.read_csv(url, names=columns)\n",
        "\n",
        "df.head()"
      ],
      "metadata": {
        "id": "Jc7j4pBuddqJ"
      },
      "execution_count": null,
      "outputs": []
    },
    {
      "cell_type": "markdown",
      "source": [
        "Etapa 2: Pré-processamento dos dados.\n",
        "\n",
        "---\n",
        "\n",
        "\n",
        "\n",
        "---\n",
        "\n",
        "\n",
        "Etapas básicas de pré-processamento antes de construir o modelo. Neste caso, não há muitos dados faltantes ou inconsistentes no conjunto de dados Iris, então faremos apenas a codificação das classes em formato numérico."
      ],
      "metadata": {
        "id": "vywT8YMudqGi"
      }
    },
    {
      "cell_type": "code",
      "source": [
        "# Codificar as classes (rótulos) em formato numérico\n",
        "le = LabelEncoder()\n",
        "df['class_encoded'] = le.fit_transform(df['class'])\n",
        "\n",
        "# Separar recursos (features) e rótulos (labels)\n",
        "X = df.drop(['class', 'class_encoded'], axis=1)\n",
        "y = df['class_encoded']\n",
        "\n",
        "X_train, X_test, y_train, y_test = train_test_split(X, y, test_size=0.2, random_state=42)\n"
      ],
      "metadata": {
        "id": "fAhP1jaAdvNw"
      },
      "execution_count": null,
      "outputs": []
    },
    {
      "cell_type": "markdown",
      "source": [
        "Etapa 3: Treinamento e avaliação do modelo.\n",
        "Usaremos o algoritmo RandomForestClassifier para criar o modelo de classificação. Em seguida, avaliaremos a precisão do modelo utilizando o conjunto de teste."
      ],
      "metadata": {
        "id": "JP5R7lbUd6tR"
      }
    },
    {
      "cell_type": "code",
      "source": [
        "# Criar o modelo\n",
        "model = RandomForestClassifier(random_state=42)\n",
        "\n",
        "# Treinar o modelo\n",
        "model.fit(X_train, y_train)\n",
        "\n",
        "# Fazer previsões com os dados de teste\n",
        "y_pred = model.predict(X_test)\n",
        "\n",
        "# Avaliar precisão\n",
        "accuracy = accuracy_score(y_test, y_pred)\n",
        "print(f\"Acurácia do modelo: {accuracy:.2f}\")\n",
        "\n",
        "# Relatório de classificação e a matriz de confusão\n",
        "print(\"\\nRelatório de Classificação:\")\n",
        "print(classification_report(y_test, y_pred))\n",
        "\n",
        "print(\"\\nMatriz de Confusão:\")\n",
        "print(confusion_matrix(y_test, y_pred))\n"
      ],
      "metadata": {
        "id": "8nBE7jpGeBRb"
      },
      "execution_count": null,
      "outputs": []
    },
    {
      "cell_type": "markdown",
      "source": [
        "Passo 4: Visualização dos resultados.\n",
        "Por fim, vamos visualizar a matriz de confusão para verificar as previsões do modelo em relação aos rótulos reais."
      ],
      "metadata": {
        "id": "8jvdSKB-ePzw"
      }
    },
    {
      "cell_type": "code",
      "source": [
        "# Visualizar a matriz de confusão\n",
        "labels = le.classes_\n",
        "conf_matrix = confusion_matrix(y_test, y_pred)\n",
        "\n",
        "plt.figure(figsize=(6, 4))\n",
        "plt.imshow(conf_matrix, interpolation='nearest', cmap=plt.cm.Blues)\n",
        "plt.title('Matriz de Confusão')\n",
        "plt.colorbar()\n",
        "tick_marks = np.arange(len(labels))\n",
        "plt.xticks(tick_marks, labels, rotation=45)\n",
        "plt.yticks(tick_marks, labels)\n",
        "plt.xlabel('Rótulo Previsto')\n",
        "plt.ylabel('Rótulo Real')\n",
        "plt.show()\n"
      ],
      "metadata": {
        "id": "Z1GpIZ5lebnF"
      },
      "execution_count": null,
      "outputs": []
    }
  ]
}