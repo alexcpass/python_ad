{
  "nbformat": 4,
  "nbformat_minor": 0,
  "metadata": {
    "colab": {
      "private_outputs": true,
      "provenance": [],
      "authorship_tag": "ABX9TyPQwkffnMEAILlnIDv8oh3P",
      "include_colab_link": true
    },
    "kernelspec": {
      "name": "python3",
      "display_name": "Python 3"
    },
    "language_info": {
      "name": "python"
    }
  },
  "cells": [
    {
      "cell_type": "markdown",
      "metadata": {
        "id": "view-in-github",
        "colab_type": "text"
      },
      "source": [
        "<a href=\"https://colab.research.google.com/github/alexcpass/python_ad/blob/main/Modulo_25_projeto_parceria.ipynb\" target=\"_parent\"><img src=\"https://colab.research.google.com/assets/colab-badge.svg\" alt=\"Open In Colab\"/></a>"
      ]
    },
    {
      "cell_type": "markdown",
      "source": [
        "Modelo\n",
        "\n",
        "Para este exemplo, vamos considerar o problema de prever a nota final de um aluno em um curso com base em suas notas anteriores e em outras variáveis.Vamos considerar e gerar dados aleatórios."
      ],
      "metadata": {
        "id": "LUcR-Ue_lMxd"
      }
    },
    {
      "cell_type": "markdown",
      "source": [
        "Coleta"
      ],
      "metadata": {
        "id": "IXS9sr9nndOC"
      }
    },
    {
      "cell_type": "markdown",
      "source": [
        "Criando um arquivo com dados aleatórios"
      ],
      "metadata": {
        "id": "sQi8EUcUxANx"
      }
    },
    {
      "cell_type": "code",
      "source": [
        "import pandas as pd\n",
        "import numpy as np\n",
        "\n",
        "np.random.seed(42)\n",
        "data = pd.DataFrame({\n",
        "    'idade': np.random.randint(18, 35, size=100),\n",
        "    'genero': np.random.randint(1, 3, size=100),\n",
        "    'nota1': np.random.uniform(0, 10, size=100),\n",
        "    'nota2': np.random.uniform(0, 10, size=100),\n",
        "    'nota3': np.random.uniform(0, 10, size=100),\n",
        "    'nota4': np.random.uniform(0, 10, size=100),\n",
        "    'nota5': np.random.uniform(0, 10, size=100),\n",
        "    'nota6': np.random.uniform(0, 10, size=100),\n",
        "    'nota7': np.random.uniform(0, 10, size=100),\n",
        "    'nota8': np.random.uniform(0, 10, size=100),\n",
        "    'nota_final': np.random.uniform(0, 10, size=100)\n",
        "})\n",
        "\n",
        "data.to_csv('student_data.csv', index=False)"
      ],
      "metadata": {
        "id": "BQtNr8WAmARN"
      },
      "execution_count": null,
      "outputs": []
    },
    {
      "cell_type": "markdown",
      "source": [
        "Modelagem"
      ],
      "metadata": {
        "id": "dunNyIl0ngxU"
      }
    },
    {
      "cell_type": "code",
      "source": [
        "from sklearn.linear_model import LinearRegression\n",
        "from sklearn.model_selection import train_test_split\n",
        "from sklearn.metrics import mean_squared_error, r2_score\n",
        "\n",
        "data = pd.read_csv('student_data.csv')"
      ],
      "metadata": {
        "id": "XTmerIQglMUP"
      },
      "execution_count": null,
      "outputs": []
    },
    {
      "cell_type": "code",
      "source": [
        "print(data.head())"
      ],
      "metadata": {
        "id": "hJzt3HahllsF"
      },
      "execution_count": null,
      "outputs": []
    },
    {
      "cell_type": "markdown",
      "source": [
        "Separando os dados em conjuntos (treino e teste)"
      ],
      "metadata": {
        "id": "hwX79QS0xFf_"
      }
    },
    {
      "cell_type": "code",
      "source": [
        "X = data.iloc[:, 2:10]\n",
        "y = data['nota_final']\n",
        "X_train, X_test, y_train, y_test = train_test_split(X, y, test_size=0.2, random_state=42)"
      ],
      "metadata": {
        "id": "hEDwe54LmKJ8"
      },
      "execution_count": null,
      "outputs": []
    },
    {
      "cell_type": "markdown",
      "source": [
        "Modelo de regressão linear e previsao (teste)"
      ],
      "metadata": {
        "id": "2twhLXIsxUdX"
      }
    },
    {
      "cell_type": "code",
      "source": [
        "model = LinearRegression()\n",
        "model.fit(X_train, y_train)\n",
        "y_pred = model.predict(X_test)"
      ],
      "metadata": {
        "id": "SgNP7utHmOdo"
      },
      "execution_count": null,
      "outputs": []
    },
    {
      "cell_type": "code",
      "source": [
        "print(y_pred)"
      ],
      "metadata": {
        "id": "u-I16agVol9z"
      },
      "execution_count": null,
      "outputs": []
    },
    {
      "cell_type": "markdown",
      "source": [
        "Visualização"
      ],
      "metadata": {
        "id": "gNqtiuAFxfio"
      }
    },
    {
      "cell_type": "code",
      "source": [
        "import matplotlib.pyplot as plt\n",
        "\n",
        "fig, ax = plt.subplots(figsize=(8, 6))\n",
        "ax.hist(y_pred, alpha=0.5, label='Notas Previstas')\n",
        "ax.hist(y_test, alpha=0.5, label='Notas Reais')\n",
        "ax.set_xlabel('Notas')\n",
        "ax.set_ylabel('Frequência')\n",
        "ax.set_title('Distribuição das Notas Previstas e Reais')\n",
        "ax.legend(loc='upper left')\n",
        "\n",
        "plt.show()"
      ],
      "metadata": {
        "id": "mgjucg_KoW0T"
      },
      "execution_count": null,
      "outputs": []
    },
    {
      "cell_type": "markdown",
      "source": [
        "Analisando o histograma, podemos observar que as notas programadas estão distribuídas em torno dos valores 4 e 6,5, enquanto as notas reais apresentam uma distribuição mais ampla e variada, com muitas  notas abaixo de 4 e outras acima de 7.\n",
        "\n",
        "A diferença entre as distribuições das notas previstas e das notas reais pode indicar que o modelo não está capturando toda a complexidade dos dados e pode ser melhorado, mas é possível notar que o modelo foi capaz de identificar a tendência geral das notas, concentrando-se como previsão em torno do valor médio.\n",
        "\n",
        "Podemos concluir que o modelo de regressão linear simples pode ser útil para prever as notas finais dos alunos, mas pode ser melhorado com o uso de técnicas mais avançadas de aprendizado de máquina e com o uso de mais dados e variáveis ​​explicativas . Vale ressaltar que a previsão das notas finais pode ser inspirada por diversos fatores não considerados neste modelo, como a qualidade do ensino e a motivação dos alunos."
      ],
      "metadata": {
        "id": "VUfg7ecKp4ul"
      }
    }
  ]
}