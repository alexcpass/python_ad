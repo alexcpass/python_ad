{
  "nbformat": 4,
  "nbformat_minor": 0,
  "metadata": {
    "colab": {
      "private_outputs": true,
      "provenance": [],
      "mount_file_id": "1Uant9-bJ0EHxSgavUHC5y48TuAINcJy5",
      "authorship_tag": "ABX9TyOexJD/JE4xoMqEr3N0d9dA",
      "include_colab_link": true
    },
    "kernelspec": {
      "name": "python3",
      "display_name": "Python 3"
    },
    "language_info": {
      "name": "python"
    }
  },
  "cells": [
    {
      "cell_type": "markdown",
      "metadata": {
        "id": "view-in-github",
        "colab_type": "text"
      },
      "source": [
        "<a href=\"https://colab.research.google.com/github/alexcpass/python_ad/blob/main/epa_sea_level.ipynb\" target=\"_parent\"><img src=\"https://colab.research.google.com/assets/colab-badge.svg\" alt=\"Open In Colab\"/></a>"
      ]
    },
    {
      "cell_type": "code",
      "execution_count": null,
      "metadata": {
        "id": "kbHxr_NnWb6_"
      },
      "outputs": [],
      "source": [
        "import numpy as np\n",
        "import pandas as pd\n",
        "from matplotlib import pyplot as plt\n",
        "import seaborn as sns \n",
        "import csv"
      ]
    },
    {
      "cell_type": "code",
      "source": [
        "df = pd.read_csv('/content/epa-sea-level.csv', sep=',')"
      ],
      "metadata": {
        "id": "DVe8EPQxXmIY"
      },
      "execution_count": null,
      "outputs": []
    },
    {
      "cell_type": "code",
      "source": [
        "df.head(2)"
      ],
      "metadata": {
        "id": "h_X_9lIIXtKv"
      },
      "execution_count": null,
      "outputs": []
    },
    {
      "cell_type": "code",
      "source": [
        "x = df['Year']\n",
        "y = df['CSIRO Adjusted Sea Level']\n",
        "\n",
        "plt.scatter(x, y)\n",
        "\n",
        "plt.title('CSIRO Adjusted Sea Level ao longo dos anos')\n",
        "plt.xlabel('Ano')\n",
        "plt.ylabel('CSIRO Adjusted Sea Level')\n",
        "\n",
        "plt.show()"
      ],
      "metadata": {
        "id": "WUisFukRYeL2"
      },
      "execution_count": null,
      "outputs": []
    },
    {
      "cell_type": "code",
      "source": [
        "from scipy.stats import linregress\n",
        "\n",
        "x = df['Year']\n",
        "y = df['CSIRO Adjusted Sea Level']\n",
        "\n",
        "slope, intercept, _, _, _ = linregress(x, y)\n",
        "plt.scatter(x, y)\n",
        "plt.title('CSIRO Adjusted Sea Level ao longo dos anos')\n",
        "plt.xlabel('Ano')\n",
        "plt.ylabel('CSIRO Adjusted Sea Level')\n",
        "\n",
        "plt.plot(x, slope * x + intercept, color='red', label='Linha de melhor ajuste')\n",
        "predicted_sea_level_2050 = slope * 2050 + intercept\n",
        "plt.plot([2050], [predicted_sea_level_2050], marker='o', markersize=8, color='blue', label='Previsão 2050')\n",
        "\n",
        "plt.legend()\n",
        "plt.show()"
      ],
      "metadata": {
        "id": "HR_wkkO4Y6ra"
      },
      "execution_count": null,
      "outputs": []
    },
    {
      "cell_type": "code",
      "source": [
        "start_year = 2000\n",
        "recent_year = df['Year'].max()\n",
        "filtered_data = df[(df['Year'] >= start_year) & (df['Year'] <= recent_year)]\n",
        "\n",
        "x = filtered_data['Year']\n",
        "y = filtered_data['CSIRO Adjusted Sea Level']\n",
        "\n",
        "slope, intercept, _, _, _ = linregress(x, y)\n",
        "\n",
        "plt.scatter(df['Year'], df['CSIRO Adjusted Sea Level'])\n",
        "\n",
        "plt.title('Rise in Sea Level')\n",
        "plt.xlabel('Year')\n",
        "plt.ylabel('Sea Level (inches)')\n",
        "plt.plot(df['Year'], slope * df['Year'] + intercept, color='red', label='Nova linha de melhor ajuste')\n",
        "\n",
        "predicted_sea_level_2050 = slope * 2050 + intercept\n",
        "plt.plot([2050], [predicted_sea_level_2050], marker='o', markersize=8, color='blue', label='Previsão 2050')\n",
        "plt.legend()\n",
        "plt.show()\n"
      ],
      "metadata": {
        "id": "2UGC3D6aa1C9"
      },
      "execution_count": null,
      "outputs": []
    }
  ]
}