{
  "nbformat": 4,
  "nbformat_minor": 0,
  "metadata": {
    "colab": {
      "private_outputs": true,
      "provenance": [],
      "authorship_tag": "ABX9TyNVbRm683qea+b0CsggFsCu",
      "include_colab_link": true
    },
    "kernelspec": {
      "name": "python3",
      "display_name": "Python 3"
    },
    "language_info": {
      "name": "python"
    }
  },
  "cells": [
    {
      "cell_type": "markdown",
      "metadata": {
        "id": "view-in-github",
        "colab_type": "text"
      },
      "source": [
        "<a href=\"https://colab.research.google.com/github/alexcpass/python_ad/blob/main/Kaggle_spotify.ipynb\" target=\"_parent\"><img src=\"https://colab.research.google.com/assets/colab-badge.svg\" alt=\"Open In Colab\"/></a>"
      ]
    },
    {
      "cell_type": "markdown",
      "source": [
        "Estudo/ Analise referente ao arquivo deisponibilizado pelo Spotify com o ranking das 50 músicas mais ouvidas na semana. Arquivo extraido do Kaggle."
      ],
      "metadata": {
        "id": "xpioIxwfRFcQ"
      }
    },
    {
      "cell_type": "code",
      "execution_count": null,
      "metadata": {
        "id": "wBA6_Hx1QwCl"
      },
      "outputs": [],
      "source": [
        "import seaborn as sns\n",
        "import pandas as pd\n",
        "import matplotlib as plt\n",
        "import csv"
      ]
    },
    {
      "cell_type": "code",
      "source": [
        "df = pd.read_csv('playlist.csv', sep=',')"
      ],
      "metadata": {
        "id": "y5ZjBKygR41d"
      },
      "execution_count": null,
      "outputs": []
    },
    {
      "cell_type": "code",
      "source": [
        "df.head()"
      ],
      "metadata": {
        "id": "PEMknN44SJlB"
      },
      "execution_count": null,
      "outputs": []
    },
    {
      "cell_type": "code",
      "source": [
        "df.shape"
      ],
      "metadata": {
        "id": "yaOheYCdUtKy"
      },
      "execution_count": null,
      "outputs": []
    },
    {
      "cell_type": "markdown",
      "source": [
        "Verificando quantidade de colunas/linhas"
      ],
      "metadata": {
        "id": "Z-lCNgAYrudA"
      }
    },
    {
      "cell_type": "code",
      "source": [
        "df.info()"
      ],
      "metadata": {
        "id": "5Y87ReZQU7X3"
      },
      "execution_count": null,
      "outputs": []
    },
    {
      "cell_type": "code",
      "source": [
        "df.describe()"
      ],
      "metadata": {
        "id": "YsCzxoMtwUgb"
      },
      "execution_count": null,
      "outputs": []
    },
    {
      "cell_type": "code",
      "source": [
        "df.plot.hist()"
      ],
      "metadata": {
        "id": "6x0GIiodwo-m"
      },
      "execution_count": null,
      "outputs": []
    },
    {
      "cell_type": "code",
      "source": [
        "tracks = df.groupby('name_of_artists')['position_in_playlist'].count().round()"
      ],
      "metadata": {
        "id": "RUDJg3nLwzVC"
      },
      "execution_count": null,
      "outputs": []
    },
    {
      "cell_type": "code",
      "source": [
        "tracks.head()"
      ],
      "metadata": {
        "id": "THtqlr6s0cVF"
      },
      "execution_count": null,
      "outputs": []
    },
    {
      "cell_type": "code",
      "source": [
        "tracks = df.groupby('name_of_artists')['position_in_playlist'].mean().round()"
      ],
      "metadata": {
        "id": "bwMZftm2214A"
      },
      "execution_count": null,
      "outputs": []
    },
    {
      "cell_type": "code",
      "source": [
        "tracks.head()"
      ],
      "metadata": {
        "id": "XqWkelZ925HX"
      },
      "execution_count": null,
      "outputs": []
    },
    {
      "cell_type": "code",
      "source": [
        "df.tail(1)"
      ],
      "metadata": {
        "id": "57bbl5aeXV3i"
      },
      "execution_count": null,
      "outputs": []
    },
    {
      "cell_type": "markdown",
      "source": [
        "Vou excluir algumas colunas e considerar apenas as mais importantes (em minha opinião, você pode deixar todas as colunas. É uma forma de exercitar o conhecimento)\n"
      ],
      "metadata": {
        "id": "ZcdTLPzSWQ2i"
      }
    },
    {
      "cell_type": "code",
      "source": [
        "df.drop(['track_add_time', 'multiple_artists_bool', 'album_release_date_precision','track_explicit','images_path','data_collection_date'], axis=1, inplace=True)"
      ],
      "metadata": {
        "id": "Ykkp7VHzW0IH"
      },
      "execution_count": null,
      "outputs": []
    },
    {
      "cell_type": "code",
      "source": [
        "df.head(2)"
      ],
      "metadata": {
        "id": "FCNI63mQXvgD"
      },
      "execution_count": null,
      "outputs": []
    },
    {
      "cell_type": "markdown",
      "source": [
        "Não existem valores nulos, mas como forma de fixação de conhecimento, estou fazendo um tratamento para valores nulos."
      ],
      "metadata": {
        "id": "_OtGo8oqXOiT"
      }
    },
    {
      "cell_type": "code",
      "source": [
        "df = df[df['track_name'].notna()]\n",
        "df = df[df['track_add_date'].notna()]\n",
        "df = df[df['name_of_artists'].notna()]\n",
        "df = df[df['album_name'].notna()]\n",
        "df = df[df['album_release_date'].notna()]\n",
        "df = df[df['number_of_tracks_in_album'].notna()]\n",
        "df = df[df['position_in_playlist'].notna()]\n",
        "df = df[df['track_popularity'].notna()]\n",
        "df = df[df['track_duration_ms'].notna()]"
      ],
      "metadata": {
        "id": "e_yWH0IXWQQ2"
      },
      "execution_count": null,
      "outputs": []
    },
    {
      "cell_type": "code",
      "source": [
        "df.shape"
      ],
      "metadata": {
        "id": "i9LB7-GdYj_1"
      },
      "execution_count": null,
      "outputs": []
    },
    {
      "cell_type": "code",
      "source": [
        "import matplotlib.pyplot as plt\n",
        "sns.histplot(data=df, x='track_popularity', bins=30,palette='rainbow')\n",
        "plt.show()"
      ],
      "metadata": {
        "id": "jz0iOtpV31Ip"
      },
      "execution_count": null,
      "outputs": []
    },
    {
      "cell_type": "code",
      "source": [
        "plt.hist(df['track_duration_ms']/60000, bins=33)\n",
        "plt.xlabel('Duração das Musicas')\n",
        "plt.ylabel('Frequencia')\n",
        "plt.title('Distribução do tempo das musicas')\n",
        "plt.show()"
      ],
      "metadata": {
        "id": "JkftgwSS65nT"
      },
      "execution_count": null,
      "outputs": []
    },
    {
      "cell_type": "code",
      "source": [
        "artistas = df['name_of_artists'].value_counts()\n",
        "artistas.to_csv('artistas.csv', index=True)"
      ],
      "metadata": {
        "id": "Wzpyihj-n6M-"
      },
      "execution_count": null,
      "outputs": []
    },
    {
      "cell_type": "code",
      "source": [
        "artistas = pd.read_csv('artistas.csv')\n",
        "artistas.head()"
      ],
      "metadata": {
        "id": "_aKou04oosPz"
      },
      "execution_count": null,
      "outputs": []
    },
    {
      "cell_type": "code",
      "source": [
        "artistas.rename(columns={'Unnamed: 0': 'Artistas'}, inplace = True)\n",
        "artistas.rename(columns={'name_of_artists': 'Qtde'}, inplace = True)"
      ],
      "metadata": {
        "id": "mrPNLsvGquIo"
      },
      "execution_count": null,
      "outputs": []
    },
    {
      "cell_type": "code",
      "source": [
        "artistas.head()"
      ],
      "metadata": {
        "id": "6aDOE78Lqclz"
      },
      "execution_count": null,
      "outputs": []
    },
    {
      "cell_type": "code",
      "source": [
        "sns.barplot(data=artistas.head(20),x='Qtde', y='Artistas')"
      ],
      "metadata": {
        "id": "kX73ftMprHp-"
      },
      "execution_count": null,
      "outputs": []
    },
    {
      "cell_type": "code",
      "source": [
        "artistas.describe()"
      ],
      "metadata": {
        "id": "L-nyZvXM8j4d"
      },
      "execution_count": null,
      "outputs": []
    },
    {
      "cell_type": "code",
      "source": [
        "df_classificado = df.sort_values('position_in_playlist', ascending=True)\n",
        "primeiras_dez = df_classificado.head(10)\n",
        "df_classificado\n"
      ],
      "metadata": {
        "id": "aof2xMZBhrWI"
      },
      "execution_count": null,
      "outputs": []
    },
    {
      "cell_type": "code",
      "source": [
        "sns.boxplot(data=df_classificado, y=\"track_duration_ms\")"
      ],
      "metadata": {
        "id": "IFUIJew-8D66"
      },
      "execution_count": null,
      "outputs": []
    },
    {
      "cell_type": "code",
      "source": [
        "sns.barplot(data=df_classificado.head(70),x='position_in_playlist', y='name_of_artists')"
      ],
      "metadata": {
        "id": "2QnHvHmdgDb7"
      },
      "execution_count": null,
      "outputs": []
    },
    {
      "cell_type": "code",
      "source": [
        "musicas = df.groupby(by='name_of_artists').agg('sum').query('position_in_playlist<=70')\n",
        "musicas.to_csv('musicas.csv', index=True)"
      ],
      "metadata": {
        "id": "riWOdCLNY0jZ"
      },
      "execution_count": null,
      "outputs": []
    },
    {
      "cell_type": "code",
      "source": [
        "musicas.shape"
      ],
      "metadata": {
        "id": "2EgUYcilZvzJ"
      },
      "execution_count": null,
      "outputs": []
    },
    {
      "cell_type": "code",
      "source": [
        "musicas.describe()"
      ],
      "metadata": {
        "id": "hCkjS2IG8sQQ"
      },
      "execution_count": null,
      "outputs": []
    },
    {
      "cell_type": "code",
      "source": [
        "musicas = pd.read_csv('musicas.csv', sep=',')\n",
        "musicas.head()"
      ],
      "metadata": {
        "id": "_rBTSc7Pe813"
      },
      "execution_count": null,
      "outputs": []
    },
    {
      "cell_type": "code",
      "source": [
        "sns.barplot(data=musicas,x='track_duration_ms', y='name_of_artists')"
      ],
      "metadata": {
        "id": "cND22HA5fOZ6"
      },
      "execution_count": null,
      "outputs": []
    },
    {
      "cell_type": "code",
      "source": [
        "plt.hist(musicas['track_duration_ms']/60000, bins=20)\n",
        "plt.xlabel('Duração das Musicas)')\n",
        "plt.ylabel('Frequencia')\n",
        "plt.title('Distribução do tempo das musicas')\n",
        "plt.show()"
      ],
      "metadata": {
        "id": "KwgGb6y56IRf"
      },
      "execution_count": null,
      "outputs": []
    }
  ]
}