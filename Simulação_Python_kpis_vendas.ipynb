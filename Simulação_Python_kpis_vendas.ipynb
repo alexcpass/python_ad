{
  "nbformat": 4,
  "nbformat_minor": 0,
  "metadata": {
    "colab": {
      "private_outputs": true,
      "provenance": [],
      "authorship_tag": "ABX9TyPNw/AKDIRRFhO5Qlirw2iV",
      "include_colab_link": true
    },
    "kernelspec": {
      "name": "python3",
      "display_name": "Python 3"
    },
    "language_info": {
      "name": "python"
    }
  },
  "cells": [
    {
      "cell_type": "markdown",
      "metadata": {
        "id": "view-in-github",
        "colab_type": "text"
      },
      "source": [
        "<a href=\"https://colab.research.google.com/github/alexcpass/python_ad/blob/main/Simula%C3%A7%C3%A3o_Python_kpis_vendas.ipynb\" target=\"_parent\"><img src=\"https://colab.research.google.com/assets/colab-badge.svg\" alt=\"Open In Colab\"/></a>"
      ]
    },
    {
      "cell_type": "markdown",
      "source": [
        "Vamos utilizar algumas bibliotecas populares de análise de dados, como o Pandas para manipulação dos dados e o Matplotlib para visualização. O projeto consistirá em analisar um conjunto de dados fictícios contendo informações sobre vendas de uma empresa."
      ],
      "metadata": {
        "id": "7o29VCgE8iNB"
      }
    },
    {
      "cell_type": "markdown",
      "source": [
        "\n",
        "\n",
        "1.   Importar as bibliotecas necessárias"
      ],
      "metadata": {
        "id": "gcCUvi1W8o73"
      }
    },
    {
      "cell_type": "code",
      "source": [
        "import pandas as pd\n",
        "import matplotlib.pyplot as plt\n"
      ],
      "metadata": {
        "id": "xd8-hPQ280m_"
      },
      "execution_count": null,
      "outputs": []
    },
    {
      "cell_type": "markdown",
      "source": [
        "2.    Carregar e explorar os dados, criar um DataFrame fictício para simular os dados de vendas com colunas como \"Data\", \"Vendedor\", \"Produto\" e \"Valor\" para representar as vendas realizadas.\n",
        "\n"
      ],
      "metadata": {
        "id": "UdsxDa7X87wR"
      }
    },
    {
      "cell_type": "code",
      "source": [
        "# Simulando os dados\n",
        "data = {\n",
        "    'Data': ['2023-07-01', '2023-07-02', '2023-07-03', '2023-07-04', '2023-07-05'],\n",
        "    'Vendedor': ['João', 'Maria', 'Carlos', 'João', 'Maria'],\n",
        "    'Produto': ['Celular', 'Notebook', 'TV', 'Celular', 'Tablet'],\n",
        "    'Valor': [1500, 2500, 1800, 1300, 900]\n",
        "}\n",
        "\n",
        "# Criando o DataFrame\n",
        "df = pd.DataFrame(data)\n",
        "\n",
        "# Visualizando as primeiras linhas dos dados\n",
        "print(df.head())\n"
      ],
      "metadata": {
        "id": "z10in_VJ9J3K"
      },
      "execution_count": null,
      "outputs": []
    },
    {
      "cell_type": "markdown",
      "source": [
        "\n",
        "3.   Análise dos KPI's. Calcular três indicadores-chave de desempenho (KPIs) simples para este projeto. Usaremos o valor total de vendas, a média de vendas por vendedor e a quantidade total de vendas por produto.\n",
        "\n"
      ],
      "metadata": {
        "id": "Jj2iNGDZ9UqN"
      }
    },
    {
      "cell_type": "code",
      "source": [
        "# KPI 1: Valor total de vendas\n",
        "total_sales = df['Valor'].sum()\n",
        "print(f\"Valor total de vendas: R${total_sales}\")\n",
        "\n",
        "# KPI 2: Média de vendas por vendedor\n",
        "average_sales_per_seller = df.groupby('Vendedor')['Valor'].mean()\n",
        "print(\"\\nMédia de vendas por vendedor:\")\n",
        "print(average_sales_per_seller)\n",
        "\n",
        "# KPI 3: Quantidade total de vendas por produto\n",
        "total_sales_per_product = df.groupby('Produto')['Valor'].count()\n",
        "print(\"\\nQuantidade total de vendas por produto:\")\n",
        "print(total_sales_per_product)\n"
      ],
      "metadata": {
        "id": "_9wIiPJ89ewP"
      },
      "execution_count": null,
      "outputs": []
    },
    {
      "cell_type": "markdown",
      "source": [
        "\n",
        "\n",
        "4.   Visualização dos KPI's.\n",
        "\n",
        "\n"
      ],
      "metadata": {
        "id": "6kCLb6bG9pHd"
      }
    },
    {
      "cell_type": "code",
      "source": [
        "# Gráfico de barras para a média de vendas por vendedor\n",
        "average_sales_per_seller.plot(kind='bar', xlabel='Vendedor', ylabel='Média de Vendas', title='Média de Vendas por Vendedor')\n",
        "plt.show()\n",
        "\n",
        "# Gráfico de pizza para a quantidade total de vendas por produto\n",
        "total_sales_per_product.plot(kind='pie', autopct='%1.1f%%', title='Distribuição de Vendas por Produto')\n",
        "plt.axis('equal')\n",
        "plt.show()\n"
      ],
      "metadata": {
        "id": "ZQiZltPI9tJY"
      },
      "execution_count": null,
      "outputs": []
    },
    {
      "cell_type": "markdown",
      "source": [
        "\n",
        "\n",
        "5.   Simulação KPI de meta de vendas.\n",
        "Definir uma meta de vendas para cada vendedor e, em seguida, calcular o percentual de atingimento da meta para cada um deles. Vamos assumir que a meta de vendas para cada vendedor é de R$ 2.000.\n",
        "\n",
        "\n"
      ],
      "metadata": {
        "id": "coOfVc0PB2zQ"
      }
    },
    {
      "cell_type": "code",
      "source": [
        "# Definindo a meta de vendas\n",
        "meta_vendas = 2000\n",
        "\n",
        "# Calculando o total de vendas por vendedor\n",
        "total_vendas_por_vendedor = df.groupby('Vendedor')['Valor'].sum()\n",
        "\n",
        "# Calculando o percentual de atingimento da meta para cada vendedor\n",
        "atingimento_meta = (total_vendas_por_vendedor / meta_vendas) * 100\n",
        "\n",
        "# Exibindo o percentual de atingimento da meta para cada vendedor\n",
        "print(\"Percentual de atingimento da meta por vendedor:\")\n",
        "print(atingimento_meta)\n"
      ],
      "metadata": {
        "id": "KWIZ42qaCGus"
      },
      "execution_count": null,
      "outputs": []
    },
    {
      "cell_type": "markdown",
      "source": [
        "\n",
        "\n",
        "6.   O código calculará o percentual de atingimento da meta de vendas para cada vendedor com base nos dados fictícios fornecidos. Se o percentual for superior a 100%, significa que o vendedor consome ou superou a meta de vendas, caso contrário, ele não atingiu a meta.\n",
        "\n",
        "\n",
        "\n",
        "\n"
      ],
      "metadata": {
        "id": "D9wfloQNCRFj"
      }
    },
    {
      "cell_type": "code",
      "source": [
        "# Gráfico de barras para o percentual de atingimento da meta por vendedor\n",
        "atingimento_meta.plot(kind='bar', xlabel='Vendedor', ylabel='Percentual de Atingimento da Meta', title='Atingimento da Meta por Vendedor')\n",
        "plt.axhline(y=100, color='red', linestyle='--', label='Meta')\n",
        "plt.legend()\n",
        "plt.show()"
      ],
      "metadata": {
        "id": "k_fwYQoICdqL"
      },
      "execution_count": null,
      "outputs": []
    },
    {
      "cell_type": "markdown",
      "source": [
        "Os valores acima da linha representam o atingimento da meta, e os valores abaixo indicam que o vendedor não consome a meta de vendas."
      ],
      "metadata": {
        "id": "9zKMLckwC4vb"
      }
    }
  ]
}