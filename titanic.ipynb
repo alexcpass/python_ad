{
  "nbformat": 4,
  "nbformat_minor": 0,
  "metadata": {
    "colab": {
      "private_outputs": true,
      "provenance": [],
      "mount_file_id": "1J84_qnLe14Vcd95lUJpi4qtt0yENQPKF",
      "authorship_tag": "ABX9TyOBmPTR2lnEBmtGRovXeu0z",
      "include_colab_link": true
    },
    "kernelspec": {
      "name": "python3",
      "display_name": "Python 3"
    },
    "language_info": {
      "name": "python"
    }
  },
  "cells": [
    {
      "cell_type": "markdown",
      "metadata": {
        "id": "view-in-github",
        "colab_type": "text"
      },
      "source": [
        "<a href=\"https://colab.research.google.com/github/alexcpass/python_ad/blob/main/titanic.ipynb\" target=\"_parent\"><img src=\"https://colab.research.google.com/assets/colab-badge.svg\" alt=\"Open In Colab\"/></a>"
      ]
    },
    {
      "cell_type": "markdown",
      "source": [
        "*This is a study on the Titanic archive, available on Kaggle and Google. We will do a data analysis working concepts in python and creating a visualization in Power BI (link).*"
      ],
      "metadata": {
        "id": "B3wDtuNl52Jg"
      }
    },
    {
      "cell_type": "code",
      "execution_count": null,
      "metadata": {
        "id": "eM3HL5pI2wun"
      },
      "outputs": [],
      "source": [
        "import numpy as np\n",
        "import pandas as pd\n",
        "from matplotlib import pyplot as plt\n",
        "import seaborn as sns\n",
        "import csv\n",
        "import openpyxl"
      ]
    },
    {
      "cell_type": "code",
      "source": [
        "sns.get_dataset_names()"
      ],
      "metadata": {
        "id": "uvoXI0uw3ASc"
      },
      "execution_count": null,
      "outputs": []
    },
    {
      "cell_type": "markdown",
      "source": [
        "#ETL + analysis"
      ],
      "metadata": {
        "id": "FMtgdoQ76RmE"
      }
    },
    {
      "cell_type": "code",
      "source": [
        "ship = sns.load_dataset(\"titanic\")\n",
        "ship.head()"
      ],
      "metadata": {
        "id": "wBJcUjQl3GyI"
      },
      "execution_count": null,
      "outputs": []
    },
    {
      "cell_type": "code",
      "source": [
        "ship.shape"
      ],
      "metadata": {
        "id": "8XpEax9Z6aK6"
      },
      "execution_count": null,
      "outputs": []
    },
    {
      "cell_type": "code",
      "source": [
        "ship.info()"
      ],
      "metadata": {
        "id": "iRyxedEN6eMU"
      },
      "execution_count": null,
      "outputs": []
    },
    {
      "cell_type": "code",
      "source": [
        "ship['survived'].value_counts()"
      ],
      "metadata": {
        "id": "tEUCmIb16oLS"
      },
      "execution_count": null,
      "outputs": []
    },
    {
      "cell_type": "code",
      "source": [
        "ship['alive'].value_counts()"
      ],
      "metadata": {
        "id": "5UNcMy-O7Nh_"
      },
      "execution_count": null,
      "outputs": []
    },
    {
      "cell_type": "code",
      "source": [
        "age_p = ship['age'].describe().round(2)\n",
        "age_p"
      ],
      "metadata": {
        "id": "4uHWYkW17oCC"
      },
      "execution_count": null,
      "outputs": []
    },
    {
      "cell_type": "code",
      "source": [
        "ship['sibsp'].unique()"
      ],
      "metadata": {
        "id": "aUO39fNdWTK0"
      },
      "execution_count": null,
      "outputs": []
    },
    {
      "cell_type": "markdown",
      "source": [
        "Graphics"
      ],
      "metadata": {
        "id": "ccozA_dzBj5K"
      }
    },
    {
      "cell_type": "markdown",
      "source": [
        "#Bar Graph: Passenger Count by Class"
      ],
      "metadata": {
        "id": "5KoJ77jk_Cfm"
      }
    },
    {
      "cell_type": "code",
      "source": [
        "# Gráfico de barras: Contagem de passageiros por classe\n",
        "sns.countplot(x='pclass', data=ship)\n",
        "plt.title('Passenger count by class')\n",
        "plt.xlabel('Class')\n",
        "plt.ylabel('Score')\n",
        "plt.show()"
      ],
      "metadata": {
        "id": "4pRLvMKH8ufQ"
      },
      "execution_count": null,
      "outputs": []
    },
    {
      "cell_type": "markdown",
      "source": [
        "#Age versus fare paid"
      ],
      "metadata": {
        "id": "1F7r_hn-_rBe"
      }
    },
    {
      "cell_type": "code",
      "source": [
        "# Gráfico de dispersão: Idade versus tarifa paga\n",
        "plt.scatter(ship['age'], ship['fare'], alpha=0.5)\n",
        "plt.title('Age versus fare paid')\n",
        "plt.xlabel('Age')\n",
        "plt.ylabel('tariff')\n",
        "plt.show()"
      ],
      "metadata": {
        "id": "lTIQjFuR_MMI"
      },
      "execution_count": null,
      "outputs": []
    },
    {
      "cell_type": "markdown",
      "source": [
        "#Distribution of fares by class"
      ],
      "metadata": {
        "id": "VYTUv4J4ACne"
      }
    },
    {
      "cell_type": "code",
      "source": [
        "sns.boxplot(x='pclass', y='fare', data=ship)\n",
        "plt.title('Distribution of fares by class')\n",
        "plt.xlabel('Class')\n",
        "plt.ylabel('Tariff')\n",
        "plt.show()"
      ],
      "metadata": {
        "id": "txfRbuZq_20t"
      },
      "execution_count": null,
      "outputs": []
    },
    {
      "cell_type": "markdown",
      "source": [
        "#Qtt Sex (Male x Female)"
      ],
      "metadata": {
        "id": "Wzm1GaJbBJ2C"
      }
    },
    {
      "cell_type": "code",
      "source": [
        "ship.head()"
      ],
      "metadata": {
        "id": "KDdQxdrwCIum"
      },
      "execution_count": null,
      "outputs": []
    },
    {
      "cell_type": "code",
      "source": [
        "sns.countplot(y=\"sex\", data= ship)"
      ],
      "metadata": {
        "id": "l6pr1hCkA3w8"
      },
      "execution_count": null,
      "outputs": []
    },
    {
      "cell_type": "markdown",
      "source": [
        "#Pivot Table"
      ],
      "metadata": {
        "id": "nvQQTY2eDsUW"
      }
    },
    {
      "cell_type": "markdown",
      "source": [
        "Pivot data to average fares paid by class and gender"
      ],
      "metadata": {
        "id": "t2xT14XfSpK7"
      }
    },
    {
      "cell_type": "code",
      "source": [
        "# Pivotar os dados para obter a média das tarifas pagas por classe e sexo\n",
        "pivot_table = pd.pivot_table(ship, values='age', index='pclass', columns='sex', aggfunc='mean')\n",
        "print(pivot_table.round(2))"
      ],
      "metadata": {
        "id": "FRaBhnoRDugP"
      },
      "execution_count": null,
      "outputs": []
    },
    {
      "cell_type": "code",
      "source": [
        "# Pivotar os dados para obter a contagem de passageiros falecidos e sobreviventes por classe\n",
        "pivot_table = pd.pivot_table(ship, values='age', index='pclass', columns='sex', aggfunc='count')\n",
        "\n",
        "# Gerar o gráfico de barras\n",
        "pivot_table.plot(kind='bar', stacked=True)\n",
        "plt.title('Deceased and surviving passenger count by class')\n",
        "plt.xlabel('Class')\n",
        "plt.ylabel('Score')\n",
        "plt.show()\n"
      ],
      "metadata": {
        "id": "EPB8zRlrU4L5"
      },
      "execution_count": null,
      "outputs": []
    },
    {
      "cell_type": "markdown",
      "source": [
        "#Link Power BI Data Viz"
      ],
      "metadata": {
        "id": "Y47jDeYgoQmK"
      }
    },
    {
      "cell_type": "markdown",
      "source": [
        "https://app.powerbi.com/view?r=eyJrIjoiYjRkYzI5YmUtZmQ3OC00ZTRiLWEwNjUtNTJkNjk0NjA5MmZjIiwidCI6IjcxN2MzMTU1LTk4MGEtNDVjZS1iMjBjLWFiNmQwZTY0MmQxMSJ9"
      ],
      "metadata": {
        "id": "ZBMpW7gHoPAL"
      }
    }
  ]
}