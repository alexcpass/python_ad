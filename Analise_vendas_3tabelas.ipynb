{
  "nbformat": 4,
  "nbformat_minor": 0,
  "metadata": {
    "colab": {
      "private_outputs": true,
      "provenance": [],
      "authorship_tag": "ABX9TyNcTtQkERQWIN8ComIkDRru",
      "include_colab_link": true
    },
    "kernelspec": {
      "name": "python3",
      "display_name": "Python 3"
    },
    "language_info": {
      "name": "python"
    }
  },
  "cells": [
    {
      "cell_type": "markdown",
      "metadata": {
        "id": "view-in-github",
        "colab_type": "text"
      },
      "source": [
        "<a href=\"https://colab.research.google.com/github/alexcpass/python_ad/blob/main/Analise_vendas_3tabelas.ipynb\" target=\"_parent\"><img src=\"https://colab.research.google.com/assets/colab-badge.svg\" alt=\"Open In Colab\"/></a>"
      ]
    },
    {
      "cell_type": "markdown",
      "source": [
        "#Trabalho de analise de dados a partir de 3 tabelas:vendas; produtos; cadastro"
      ],
      "metadata": {
        "id": "-DZp_Dg3wkAQ"
      }
    },
    {
      "cell_type": "code",
      "source": [
        "#importando bibliotecas\n",
        "import pandas as pd\n",
        "import numpy as np\n",
        "import matplotlib as plt\n",
        "import seaborn as sns"
      ],
      "metadata": {
        "id": "tua4whn-w7Rs"
      },
      "execution_count": null,
      "outputs": []
    },
    {
      "cell_type": "code",
      "source": [
        "cadastro = pd.read_csv('/content/cadastro.csv',sep=',')\n",
        "produto = pd.read_csv('/content/produto.csv',sep=',')\n",
        "vendas = pd.read_csv('/content/vendas.csv',sep=',')"
      ],
      "metadata": {
        "id": "Qd6-EXLV276O"
      },
      "execution_count": null,
      "outputs": []
    },
    {
      "cell_type": "code",
      "source": [
        "cadastro.head(2)"
      ],
      "metadata": {
        "id": "8uzjzCrg3ThJ"
      },
      "execution_count": null,
      "outputs": []
    },
    {
      "cell_type": "code",
      "source": [
        "produto.head(2)"
      ],
      "metadata": {
        "id": "sAXIi6nJ3dS_"
      },
      "execution_count": null,
      "outputs": []
    },
    {
      "cell_type": "code",
      "source": [
        "vendas.head(2)"
      ],
      "metadata": {
        "id": "QDpFhOq73hBM"
      },
      "execution_count": null,
      "outputs": []
    },
    {
      "cell_type": "markdown",
      "source": [],
      "metadata": {
        "id": "ybJ1pBUPwjVq"
      }
    },
    {
      "cell_type": "markdown",
      "source": [
        "Vamos conectar as tabelas atraves dos campos em comum:\n",
        "*   vendas e cadastro = id_cliente\n",
        "*   vendas e produto = id_produto\n",
        "\n"
      ],
      "metadata": {
        "id": "iOl755wI3qJ8"
      }
    },
    {
      "cell_type": "code",
      "source": [
        "# Juntando tabelas\n",
        "df = pd.merge(vendas, cadastro, on='id_cliente')\n",
        "df = pd.merge(df, produto, on='id_produto')\n"
      ],
      "metadata": {
        "id": "XE3Ysf013vZ0"
      },
      "execution_count": null,
      "outputs": []
    },
    {
      "cell_type": "code",
      "source": [
        "df.head()"
      ],
      "metadata": {
        "id": "Qx13gqSQ4qqu"
      },
      "execution_count": null,
      "outputs": []
    },
    {
      "cell_type": "code",
      "source": [
        "df.shape"
      ],
      "metadata": {
        "id": "sCMva2Ow4ua8"
      },
      "execution_count": null,
      "outputs": []
    },
    {
      "cell_type": "markdown",
      "source": [
        "Tratando os campos de data"
      ],
      "metadata": {
        "id": "3kY2xmZJ5M0U"
      }
    },
    {
      "cell_type": "code",
      "source": [
        "from datetime import datetime"
      ],
      "metadata": {
        "id": "t6Lfymf25QKR"
      },
      "execution_count": null,
      "outputs": []
    },
    {
      "cell_type": "code",
      "source": [
        "df['data_venda'] = pd.to_datetime(df['data_venda'])\n"
      ],
      "metadata": {
        "id": "ms94pzoD5TSa"
      },
      "execution_count": null,
      "outputs": []
    },
    {
      "cell_type": "code",
      "source": [
        "df.head(2)"
      ],
      "metadata": {
        "id": "25siaHZL5W0b"
      },
      "execution_count": null,
      "outputs": []
    },
    {
      "cell_type": "markdown",
      "source": [
        "Analises estatisticas/descritivas"
      ],
      "metadata": {
        "id": "eDjOK9_N5983"
      }
    },
    {
      "cell_type": "code",
      "source": [
        "df.describe()"
      ],
      "metadata": {
        "id": "3bW8VUjo52II"
      },
      "execution_count": null,
      "outputs": []
    },
    {
      "cell_type": "markdown",
      "source": [
        "Correlação entre Variáveis:"
      ],
      "metadata": {
        "id": "H2f04M_Z6GJ1"
      }
    },
    {
      "cell_type": "code",
      "source": [
        "correlation_matrix = df[['quantidade', 'preco_produto']].corr()\n",
        "print(correlation_matrix)\n"
      ],
      "metadata": {
        "id": "UvQT2VMe6G6L"
      },
      "execution_count": null,
      "outputs": []
    },
    {
      "cell_type": "markdown",
      "source": [
        "Análise de Vendas por Produto:"
      ],
      "metadata": {
        "id": "nBDAezut6Sfo"
      }
    },
    {
      "cell_type": "code",
      "source": [
        "total_vendas_por_produto = df.groupby('nome_produto')['quantidade'].sum().reset_index()\n",
        "total_vendas_por_produto"
      ],
      "metadata": {
        "id": "FRN3HZo66TK_"
      },
      "execution_count": null,
      "outputs": []
    },
    {
      "cell_type": "markdown",
      "source": [
        "Análise Temporal de Vendas:"
      ],
      "metadata": {
        "id": "-9nL7Jsr6dZ8"
      }
    },
    {
      "cell_type": "code",
      "source": [
        "vendas_por_mes = df.groupby(df['data_venda'].dt.month)['quantidade'].sum().reset_index()\n",
        "vendas_por_mes"
      ],
      "metadata": {
        "id": "q7R_I5Kk6eDb"
      },
      "execution_count": null,
      "outputs": []
    },
    {
      "cell_type": "markdown",
      "source": [
        "Análise de Clientes:"
      ],
      "metadata": {
        "id": "c2e6NBZz6wg4"
      }
    },
    {
      "cell_type": "code",
      "source": [
        "compras_por_cliente = df.groupby('nome_cliente')['quantidade'].mean().reset_index()\n",
        "compras_por_cliente.round(2)"
      ],
      "metadata": {
        "id": "M3QAML_r6xGw"
      },
      "execution_count": null,
      "outputs": []
    },
    {
      "cell_type": "markdown",
      "source": [
        "Comparação de Vendas entre Estados ou Cidades:"
      ],
      "metadata": {
        "id": "VhNNIZ4v7fLd"
      }
    },
    {
      "cell_type": "code",
      "source": [
        "vendas_por_estado = df.groupby('estado')['quantidade'].sum().reset_index()\n",
        "vendas_por_estado"
      ],
      "metadata": {
        "id": "nAaFJvR77ecG"
      },
      "execution_count": null,
      "outputs": []
    },
    {
      "cell_type": "markdown",
      "source": [
        "##Grafico de barras - Vendas por Estado (em qtd)"
      ],
      "metadata": {
        "id": "tLZWf0DA-YK7"
      }
    },
    {
      "cell_type": "code",
      "source": [
        "ax = sns.barplot(vendas_por_estado, x=\"estado\", y=\"quantidade\", estimator=\"sum\", errorbar=None)\n",
        "ax.bar_label(ax.containers[0], fontsize=10);"
      ],
      "metadata": {
        "id": "nBTFyOGd833J"
      },
      "execution_count": null,
      "outputs": []
    },
    {
      "cell_type": "markdown",
      "source": [
        "##Grafico de barras - Vendas por cliente (em qtd)"
      ],
      "metadata": {
        "id": "F2dAkGMu-nK3"
      }
    },
    {
      "cell_type": "code",
      "source": [
        "ax = sns.barplot(compras_por_cliente.round(), x=\"quantidade\", y=\"nome_cliente\", estimator=\"sum\", errorbar=None, orient='h')\n",
        "ax.bar_label(ax.containers[0], fontsize=10);"
      ],
      "metadata": {
        "id": "5pK-LMmv-sbd"
      },
      "execution_count": null,
      "outputs": []
    },
    {
      "cell_type": "markdown",
      "source": [
        "#Vamos tratar agora o valor das vendas, ao longo dos anos"
      ],
      "metadata": {
        "id": "u9Wwz2a6_fmv"
      }
    },
    {
      "cell_type": "markdown",
      "source": [
        "Em primeiro lugar, vamos criar a coluna valor_venda, a partir da coluna quantidade x preco_produto"
      ],
      "metadata": {
        "id": "Y0jsZkcy_2bZ"
      }
    },
    {
      "cell_type": "code",
      "source": [
        "# Criando a coluna valor_venda\n",
        "df['valor_venda'] = df['quantidade'] * df['preco_produto']\n",
        "\n",
        "# Exibindo o DataFrame atualizado\n",
        "df.head()\n"
      ],
      "metadata": {
        "id": "YLo27uHuAG2k"
      },
      "execution_count": null,
      "outputs": []
    },
    {
      "cell_type": "code",
      "source": [
        "df['data_venda'] = pd.to_datetime(df['data_venda'])\n",
        "\n",
        "# Adicione colunas de mês e ano\n",
        "df['ano'] = df['data_venda'].dt.year\n",
        "df['mes'] = df['data_venda'].dt.month\n",
        "\n",
        "# Agrupe os dados por ano e mês e calcule o valor total de vendas para cada grupo\n",
        "vendas_por_ano_mes = df.groupby(['ano', 'mes'])['valor_venda'].sum().reset_index()\n",
        "\n",
        "# Visualize o resultado\n",
        "vendas_por_ano_mes.round()\n"
      ],
      "metadata": {
        "id": "v9scn-E9_j3l"
      },
      "execution_count": null,
      "outputs": []
    },
    {
      "cell_type": "code",
      "source": [
        "plt.figure(figsize=(12, 6))\n",
        "for ano in vendas_por_ano_mes['ano'].unique():\n",
        "    dados_ano = vendas_por_ano_mes[vendas_por_ano_mes['ano'] == ano]\n",
        "    plt.plot(dados_ano['mes'], dados_ano['valor_venda'], label=f'Ano {ano}')\n",
        "\n",
        "plt.title('Vendas por Mês, Ano a Ano')\n",
        "plt.xlabel('Mês')\n",
        "plt.ylabel('Valor de Vendas')\n",
        "plt.legend()\n",
        "plt.show()\n"
      ],
      "metadata": {
        "id": "EbEVGA0vAjdg"
      },
      "execution_count": null,
      "outputs": []
    },
    {
      "cell_type": "code",
      "source": [
        "pivot_table = vendas_por_ano_mes.pivot_table(values='valor_venda', index='mes', columns='ano', aggfunc='sum')\n",
        "\n",
        "# Criar um gráfico de área empilhada\n",
        "plt.figure(figsize=(12, 6))\n",
        "sns.lineplot(data=pivot_table, dashes=False, palette='tab10')\n",
        "\n",
        "plt.title('Vendas por Mês, Ano a Ano (Área Empilhada)')\n",
        "plt.xlabel('Mês')\n",
        "plt.ylabel('Valor de Vendas')\n",
        "plt.legend(title='Ano', bbox_to_anchor=(1.05, 1), loc='upper left')\n",
        "plt.show()\n"
      ],
      "metadata": {
        "id": "yoOYVsLuHghY"
      },
      "execution_count": null,
      "outputs": []
    },
    {
      "cell_type": "code",
      "source": [
        "pivot_table = vendas_por_ano_mes.pivot_table(values='valor_venda', index='mes', columns='ano', aggfunc='sum')\n",
        "\n",
        "# Criar um gráfico de área empilhada com linhas suaves\n",
        "plt.figure(figsize=(12, 6))\n",
        "sns.lineplot(data=pivot_table, dashes=False, palette='tab10', estimator='sum', ci=None)\n",
        "\n",
        "plt.title('Vendas por Mês, Ano a Ano (Área Empilhada com Linhas Suaves)')\n",
        "plt.xlabel('Mês')\n",
        "plt.ylabel('Valor de Vendas')\n",
        "plt.legend(title='Ano', bbox_to_anchor=(1.05, 1), loc='upper left')\n",
        "plt.show()\n"
      ],
      "metadata": {
        "id": "AwnWoRFfHvBU"
      },
      "execution_count": null,
      "outputs": []
    },
    {
      "cell_type": "markdown",
      "source": [
        "#Grafico de calor (valor das vendas)"
      ],
      "metadata": {
        "id": "G9etrhaWEQKM"
      }
    },
    {
      "cell_type": "code",
      "source": [
        "# Agrupe os dados por ano e mês e calcule o valor total de vendas para cada grupo\n",
        "vendas_por_ano_mes = df.groupby(['ano', 'mes'])['valor_venda'].sum().reset_index()\n",
        "\n",
        "# Crie uma tabela pivô para organizar os dados para o heatmap\n",
        "pivot_table = vendas_por_ano_mes.pivot_table(values='valor_venda', index='mes', columns='ano', aggfunc='sum')\n",
        "\n",
        "# Encontre os maiores valores para destacar\n",
        "max_values = pivot_table.max(axis=1).max()\n",
        "\n",
        "# Crie o heatmap usando Seaborn e destaque os maiores valores\n",
        "plt.figure(figsize=(12, 8))\n",
        "sns.heatmap(pivot_table, annot=True, fmt='.0f', cmap='YlGnBu', linewidths=.5, annot_kws={'weight': 'bold'},\n",
        "            mask=(pivot_table == max_values))\n",
        "plt.title('Vendas Mensais Ano a Ano (heatmap com destaque para os maiores valores)')\n",
        "plt.xlabel('Ano')\n",
        "plt.ylabel('Mês')\n",
        "plt.show()\n"
      ],
      "metadata": {
        "id": "AVlOCtERDzC8"
      },
      "execution_count": null,
      "outputs": []
    },
    {
      "cell_type": "markdown",
      "source": [
        "#Grafico de calor - valor + qtd"
      ],
      "metadata": {
        "id": "R09bVxhhEWD9"
      }
    },
    {
      "cell_type": "code",
      "source": [
        "# Agrupe os dados por ano, mês e calcule o valor total de vendas e a quantidade para cada grupo\n",
        "vendas_por_ano_mes = df.groupby(['ano', 'mes'])[['valor_venda', 'quantidade']].sum().reset_index()\n",
        "\n",
        "# Crie uma tabela pivô para organizar os dados para o heatmap\n",
        "pivot_table = vendas_por_ano_mes.pivot_table(values=['valor_venda', 'quantidade'], index='mes', columns='ano', aggfunc='sum')\n",
        "\n",
        "# Encontre os maiores valores para destacar\n",
        "max_values = pivot_table.max(axis=1).max()\n",
        "\n",
        "# Crie o heatmap usando Seaborn e destaque os maiores valores\n",
        "plt.figure(figsize=(12, 8))\n",
        "sns.heatmap(pivot_table, annot=True, fmt='.0f', cmap='YlGnBu', linewidths=.5, annot_kws={'weight': 'bold'},\n",
        "            mask=(pivot_table == max_values))\n",
        "plt.title('Vendas Mensais Ano a Ano (heatmap com destaque para os maiores valores)')\n",
        "plt.xlabel('Ano')\n",
        "plt.ylabel('Mês')\n",
        "plt.show()\n"
      ],
      "metadata": {
        "id": "aEClsHAtEVNQ"
      },
      "execution_count": null,
      "outputs": []
    },
    {
      "cell_type": "markdown",
      "source": [
        "#Top 5 Clientes - qtd"
      ],
      "metadata": {
        "id": "9kBd1MHsE6vG"
      }
    },
    {
      "cell_type": "code",
      "source": [
        "# Agrupe os dados por ano, cliente e calcule a quantidade total de vendas para cada grupo\n",
        "vendas_por_ano_cliente = df.groupby(['ano', 'nome_cliente'])['quantidade'].sum().reset_index()\n",
        "\n",
        "# Encontre os top 5 clientes por ano\n",
        "top5_clientes_por_ano = vendas_por_ano_cliente.groupby('ano').apply(lambda x: x.nlargest(5, 'quantidade')).reset_index(drop=True)\n",
        "\n",
        "# Crie um gráfico de barras empilhadas\n",
        "plt.figure(figsize=(12, 8))\n",
        "\n",
        "for ano, dados in top5_clientes_por_ano.groupby('ano'):\n",
        "    bars = plt.bar(dados['nome_cliente'], dados['quantidade'], label=str(ano))\n",
        "\n",
        "    # Adicione rótulos nas barras\n",
        "    for bar in bars:\n",
        "        yval = bar.get_height()\n",
        "        plt.text(bar.get_x() + bar.get_width()/2, yval, round(yval, 1), ha='center', va='bottom', fontsize=10)\n",
        "\n",
        "plt.title('Top 5 Clientes em Quantidade de Vendas por Ano')\n",
        "plt.xlabel('Nome do Cliente')\n",
        "plt.ylabel('Quantidade de Vendas')\n",
        "plt.xticks(rotation=45, ha='right')\n",
        "plt.legend(title='Ano', bbox_to_anchor=(1.05, 1), loc='upper left')\n",
        "plt.tight_layout()\n",
        "plt.show()\n"
      ],
      "metadata": {
        "id": "o24Rv78GFxuF"
      },
      "execution_count": null,
      "outputs": []
    }
  ]
}