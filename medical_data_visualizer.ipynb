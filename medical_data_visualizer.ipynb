{
  "nbformat": 4,
  "nbformat_minor": 0,
  "metadata": {
    "colab": {
      "private_outputs": true,
      "provenance": [],
      "authorship_tag": "ABX9TyMxGtv6OzzTj8GKyjjOK3GP",
      "include_colab_link": true
    },
    "kernelspec": {
      "name": "python3",
      "display_name": "Python 3"
    },
    "language_info": {
      "name": "python"
    }
  },
  "cells": [
    {
      "cell_type": "markdown",
      "metadata": {
        "id": "view-in-github",
        "colab_type": "text"
      },
      "source": [
        "<a href=\"https://colab.research.google.com/github/alexcpass/python_ad/blob/main/medical_data_visualizer.ipynb\" target=\"_parent\"><img src=\"https://colab.research.google.com/assets/colab-badge.svg\" alt=\"Open In Colab\"/></a>"
      ]
    },
    {
      "cell_type": "code",
      "execution_count": null,
      "metadata": {
        "id": "cdEz4nK4tALc"
      },
      "outputs": [],
      "source": [
        "import numpy as np\n",
        "import pandas as pd\n",
        "from matplotlib import pyplot as plt\n",
        "import seaborn as sns"
      ]
    },
    {
      "cell_type": "code",
      "source": [
        "df = pd.read_csv('/content/medical_examination.csv', sep=',')"
      ],
      "metadata": {
        "id": "DxLuhoo4tTzi"
      },
      "execution_count": null,
      "outputs": []
    },
    {
      "cell_type": "code",
      "source": [
        "df.head(2)"
      ],
      "metadata": {
        "id": "hTo1nWHstgKn"
      },
      "execution_count": null,
      "outputs": []
    },
    {
      "cell_type": "markdown",
      "source": [
        "Graphic 1"
      ],
      "metadata": {
        "id": "L6UGdgnmuh6U"
      }
    },
    {
      "cell_type": "code",
      "source": [
        "# Filtrando os dados para pacientes com cardio=1 e cardio=0\n",
        "df_cardio_1 = df[df['cardio'] == 1]\n",
        "df_cardio_0 = df[df['cardio'] == 0]\n",
        "\n",
        "# Função para contar os valores e retornar uma lista de contagens\n",
        "def count_values(data, column):\n",
        "    return data[column].value_counts().sort_index()\n",
        "\n",
        "# Lista das colunas de interesse\n",
        "columns = ['cholesterol', 'gluc', 'alco', 'active', 'smoke']\n",
        "\n",
        "# Configuração do gráfico\n",
        "fig, axs = plt.subplots(nrows=len(columns), ncols=2, figsize=(10, 15))\n",
        "\n",
        "for i, col in enumerate(columns):\n",
        "    counts_cardio_1 = count_values(df_cardio_1, col)\n",
        "    counts_cardio_0 = count_values(df_cardio_0, col)\n",
        "\n",
        "    axs[i, 0].bar(counts_cardio_1.index, counts_cardio_1.values)\n",
        "    axs[i, 0].set_title(f'Cardio = 1 - {col}')\n",
        "\n",
        "    axs[i, 1].bar(counts_cardio_0.index, counts_cardio_0.values)\n",
        "    axs[i, 1].set_title(f'Cardio = 0 - {col}')\n",
        "\n",
        "# Ajuste de layout dos subplots\n",
        "plt.tight_layout()\n",
        "\n",
        "# Exibição do gráfico\n",
        "plt.show()\n"
      ],
      "metadata": {
        "id": "wOzZxFO0uRYr"
      },
      "execution_count": null,
      "outputs": []
    },
    {
      "cell_type": "markdown",
      "source": [
        "Add an overweight column to the data."
      ],
      "metadata": {
        "id": "Z96GaEZdundj"
      }
    },
    {
      "cell_type": "code",
      "source": [
        "# Cálculo do IMC (Índice de Massa Corporal)\n",
        "df['imc'] = df['weight'] / (df['height'] / 100) ** 2\n",
        "\n",
        "def calculate_overweight(imc):\n",
        "    if imc > 25:\n",
        "        return 1\n",
        "    else:\n",
        "        return 0\n",
        "\n",
        "# Aplicação da função para criar a coluna \"overweight\"\n",
        "df['overweight'] = df['imc'].apply(calculate_overweight)\n",
        "\n",
        "df.head()\n"
      ],
      "metadata": {
        "id": "fJGuBbdNusqE"
      },
      "execution_count": null,
      "outputs": []
    },
    {
      "cell_type": "markdown",
      "source": [
        "Normalize"
      ],
      "metadata": {
        "id": "vVWV-EZ4vWWb"
      }
    },
    {
      "cell_type": "code",
      "source": [
        "def normalize_value(value):\n",
        "    if value == 1:\n",
        "        return 0\n",
        "    elif value > 1:\n",
        "        return 1\n",
        "    else:\n",
        "        return value\n",
        "\n",
        "# Aplicação da função de normalização nas colunas 'cholesterol' e 'gluc'\n",
        "df['cholesterol'] = df['cholesterol'].apply(normalize_value)\n",
        "df['gluc'] = df['gluc'].apply(normalize_value)\n",
        "\n",
        "# Exibição dos dados atualizados\n",
        "df.head()\n"
      ],
      "metadata": {
        "id": "h26h92uEvYM7"
      },
      "execution_count": null,
      "outputs": []
    },
    {
      "cell_type": "markdown",
      "source": [
        "Graphic 2"
      ],
      "metadata": {
        "id": "vpTEO-B_vwUY"
      }
    },
    {
      "cell_type": "code",
      "source": [
        "df_long = pd.melt(df, id_vars=['cardio'], value_vars=['cholesterol', 'gluc', 'alco', 'active', 'smoke'],\n",
        "                  var_name='feature', value_name='value')\n",
        "\n",
        "# Criar o gráfico usando catplot() do Seaborn\n",
        "sns.catplot(x='value', col='cardio', hue='feature', data=df_long, kind='count')\n",
        "plt.show()\n"
      ],
      "metadata": {
        "id": "9ByEVkmVvz7t"
      },
      "execution_count": null,
      "outputs": []
    },
    {
      "cell_type": "markdown",
      "source": [
        "Diastolic pressure is higher than systolic "
      ],
      "metadata": {
        "id": "lNgD4rFMwNsu"
      }
    },
    {
      "cell_type": "code",
      "source": [
        "df_clean = df[df['ap_lo'] <= df['ap_hi']]\n",
        "df_clean.head()\n"
      ],
      "metadata": {
        "id": "WBtbDH6uwLVS"
      },
      "execution_count": null,
      "outputs": []
    },
    {
      "cell_type": "markdown",
      "source": [],
      "metadata": {
        "id": "dnZ2631XwLCK"
      }
    },
    {
      "cell_type": "markdown",
      "source": [
        "Height is less than the 2.5th percentile "
      ],
      "metadata": {
        "id": "nwVP7TRMwwoJ"
      }
    },
    {
      "cell_type": "code",
      "source": [
        "df_clean = df[df['height'] >= df['height'].quantile(0.025)]\n",
        "df_clean.head()\n"
      ],
      "metadata": {
        "id": "Rg4916UHwq2k"
      },
      "execution_count": null,
      "outputs": []
    },
    {
      "cell_type": "markdown",
      "source": [
        "Height is more than the 97.5th percentile"
      ],
      "metadata": {
        "id": "iX-nnjcAxD8a"
      }
    },
    {
      "cell_type": "code",
      "source": [
        "df_clean = df[df['height'] >= df['height'].quantile(0.975)]\n",
        "df_clean.head()\n"
      ],
      "metadata": {
        "id": "Yl-k1xNkxGnM"
      },
      "execution_count": null,
      "outputs": []
    },
    {
      "cell_type": "markdown",
      "source": [
        "Weight is less than the 2.5th percentile"
      ],
      "metadata": {
        "id": "rnAo87JoxsCP"
      }
    },
    {
      "cell_type": "code",
      "source": [
        "df_clean = df[df['weight'] <= df['weight'].quantile(0.025)]\n",
        "df_clean.head()\n"
      ],
      "metadata": {
        "id": "xZukOhBSxuXC"
      },
      "execution_count": null,
      "outputs": []
    },
    {
      "cell_type": "markdown",
      "source": [
        "Weight is more than the 97.5th percentile"
      ],
      "metadata": {
        "id": "sK26IfY2yD0m"
      }
    },
    {
      "cell_type": "code",
      "source": [
        "df_clean = df[df['weight'] > df['weight'].quantile(0.975)]\n",
        "df_clean.head()\n"
      ],
      "metadata": {
        "id": "DN4fDFEUyCkZ"
      },
      "execution_count": null,
      "outputs": []
    },
    {
      "cell_type": "markdown",
      "source": [
        "Create a correlation matrix using the dataset"
      ],
      "metadata": {
        "id": "HhzyxaPOy0_L"
      }
    },
    {
      "cell_type": "code",
      "source": [
        "df = df.fillna(0)  \n",
        "\n",
        "\n",
        "correlation_matrix = df.corr()\n",
        "mask = np.triu(np.ones_like(correlation_matrix, dtype=bool))\n",
        "\n",
        "fig, ax = plt.subplots(figsize=(10, 8))\n",
        "sns.heatmap(correlation_matrix, mask=mask, annot=True, fmt=\".2f\", cmap='coolwarm', cbar=True, square=True, ax=ax)\n",
        "plt.tight_layout()\n",
        "plt.show()\n"
      ],
      "metadata": {
        "id": "vaOtzoPly1np"
      },
      "execution_count": null,
      "outputs": []
    }
  ]
}