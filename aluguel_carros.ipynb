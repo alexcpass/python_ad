{
  "nbformat": 4,
  "nbformat_minor": 0,
  "metadata": {
    "colab": {
      "private_outputs": true,
      "provenance": [],
      "authorship_tag": "ABX9TyO4J2fhoNhTfl/23rOkZev0",
      "include_colab_link": true
    },
    "kernelspec": {
      "name": "python3",
      "display_name": "Python 3"
    },
    "language_info": {
      "name": "python"
    }
  },
  "cells": [
    {
      "cell_type": "markdown",
      "metadata": {
        "id": "view-in-github",
        "colab_type": "text"
      },
      "source": [
        "<a href=\"https://colab.research.google.com/github/alexcpass/python_ad/blob/main/aluguel_carros.ipynb\" target=\"_parent\"><img src=\"https://colab.research.google.com/assets/colab-badge.svg\" alt=\"Open In Colab\"/></a>"
      ]
    },
    {
      "cell_type": "markdown",
      "source": [
        "#Analise simples de dois arquivos csv gerados do MySQL. Um desses arquivos é uma consulta"
      ],
      "metadata": {
        "id": "VDock0brHs08"
      }
    },
    {
      "cell_type": "code",
      "execution_count": null,
      "metadata": {
        "id": "xtHB1TgqGk7J"
      },
      "outputs": [],
      "source": [
        "import pandas as pd\n",
        "import numpy as np\n",
        "import matplotlib as plt\n",
        "import seaborn as sns"
      ]
    },
    {
      "cell_type": "markdown",
      "source": [
        "Arquivo aluguel_veiculos"
      ],
      "metadata": {
        "id": "D2p9GZK3Hpq9"
      }
    },
    {
      "cell_type": "code",
      "source": [
        "df = pd.read_csv('/content/aluguel_veiculos.csv', sep=';', encoding='latin1')\n"
      ],
      "metadata": {
        "id": "ipnjOSv5HjRA"
      },
      "execution_count": null,
      "outputs": []
    },
    {
      "cell_type": "code",
      "source": [
        "df.head()"
      ],
      "metadata": {
        "id": "N5dzPJZTHlZZ"
      },
      "execution_count": null,
      "outputs": []
    },
    {
      "cell_type": "code",
      "source": [
        "df.describe()"
      ],
      "metadata": {
        "id": "u7TRkVwUH-JF"
      },
      "execution_count": null,
      "outputs": []
    },
    {
      "source": [],
      "cell_type": "code",
      "metadata": {
        "id": "cJw8vwg7BzLD"
      },
      "execution_count": null,
      "outputs": []
    },
    {
      "cell_type": "code",
      "source": [
        "df.shape"
      ],
      "metadata": {
        "id": "Fw8qq_fNI79X"
      },
      "execution_count": null,
      "outputs": []
    },
    {
      "cell_type": "markdown",
      "source": [
        "#Obs: .shape[0] --> gera a quantidade da consulta.Sem esse comando é gerada uma consulta com todos os dados solicitados"
      ],
      "metadata": {
        "id": "rSKWR11ALpOB"
      }
    },
    {
      "cell_type": "code",
      "source": [
        "locacoes_2 = df[df['qtde_diarias'] ==2].shape[0]\n",
        "locacoes_2"
      ],
      "metadata": {
        "id": "T5356cgyIo0m"
      },
      "execution_count": null,
      "outputs": []
    },
    {
      "cell_type": "code",
      "source": [
        "locatario_menor25 = df[df['idade_locatario'] < 25].shape[0]\n",
        "locatario_menor25"
      ],
      "metadata": {
        "id": "t_OD8rGUK6si"
      },
      "execution_count": null,
      "outputs": []
    },
    {
      "cell_type": "code",
      "source": [
        "locatario_maior25 = df[df['idade_locatario'] > 25].shape[0]\n",
        "locatario_maior25"
      ],
      "metadata": {
        "id": "ftTEFHnPLU_0"
      },
      "execution_count": null,
      "outputs": []
    },
    {
      "cell_type": "code",
      "source": [
        "valor_locacao = df['valor_total_locacao'].sum().round()\n",
        "valor_locacao"
      ],
      "metadata": {
        "id": "q0R245TAajSK"
      },
      "execution_count": null,
      "outputs": []
    },
    {
      "cell_type": "code",
      "source": [
        "locacoes_totais = df['id'].count()\n",
        "locacoes_totais"
      ],
      "metadata": {
        "id": "VyhdNPGCav_i"
      },
      "execution_count": null,
      "outputs": []
    },
    {
      "cell_type": "markdown",
      "source": [
        "Distribuição de Idades dos Locatários"
      ],
      "metadata": {
        "id": "i6DuIouO8ZIM"
      }
    },
    {
      "cell_type": "code",
      "source": [
        "import matplotlib.pyplot as plt\n",
        "\n",
        "# Histograma da idade dos locatários\n",
        "plt.figure(figsize=(8, 6))\n",
        "plt.hist(df['idade_locatario'], bins=20, color='skyblue', edgecolor='black')\n",
        "plt.title('Distribuição de Idades dos Locatários')\n",
        "plt.xlabel('Idade do Locatário')\n",
        "plt.ylabel('Frequência')\n",
        "plt.show()\n"
      ],
      "metadata": {
        "id": "wn6e8AYT8RZ7"
      },
      "execution_count": null,
      "outputs": []
    },
    {
      "cell_type": "markdown",
      "source": [
        "Relação entre Valor Total de Locação e Quilometragem"
      ],
      "metadata": {
        "id": "GWsGCCII8a6t"
      }
    },
    {
      "cell_type": "code",
      "source": [
        "import seaborn as sns\n",
        "\n",
        "# Gráfico de dispersão\n",
        "plt.figure(figsize=(10, 6))\n",
        "sns.scatterplot(data=df, x='quilometragem', y='valor_total_locacao', hue='Estado', palette='hls')\n",
        "plt.title('Relação entre Valor Total de Locação e Quilometragem')\n",
        "plt.xlabel('Quilometragem')\n",
        "plt.ylabel('Valor Total de Locação')\n",
        "plt.legend(title='Estado')\n",
        "plt.show()\n"
      ],
      "metadata": {
        "id": "wKrtjk5u8epn"
      },
      "execution_count": null,
      "outputs": []
    },
    {
      "cell_type": "markdown",
      "source": [
        "Locações por Gênero"
      ],
      "metadata": {
        "id": "XVHv5xLv-K_8"
      }
    },
    {
      "cell_type": "code",
      "source": [
        "# Contagem de locações por gênero\n",
        "locacoes_por_genero = df['genero'].value_counts()\n",
        "\n",
        "# Gráfico de barras com números nas barras\n",
        "plt.figure(figsize=(8, 6))\n",
        "bars = plt.bar(locacoes_por_genero.index, locacoes_por_genero, color=['skyblue', 'salmon'])\n",
        "\n",
        "# Adiciona números nas barras\n",
        "for bar in bars:\n",
        "    plt.text(bar.get_x() + bar.get_width() / 2 - 0.05, bar.get_height() + 0.1, str(bar.get_height()), ha='center')\n",
        "\n",
        "plt.title('Locações por Gênero')\n",
        "plt.xlabel('Gênero')\n",
        "plt.ylabel('Quantidade de Locações')\n",
        "plt.show()\n"
      ],
      "metadata": {
        "id": "zGPV5ud7-mCP"
      },
      "execution_count": null,
      "outputs": []
    },
    {
      "cell_type": "markdown",
      "source": [
        "Correlação entre Variáveis"
      ],
      "metadata": {
        "id": "Yie4q6tB-T6C"
      }
    },
    {
      "cell_type": "code",
      "source": [
        "# Matriz de correlação\n",
        "correlation_matrix = df.corr()\n",
        "\n",
        "# Mapa de calor\n",
        "plt.figure(figsize=(10, 8))\n",
        "sns.heatmap(correlation_matrix, annot=True, cmap='coolwarm', fmt='.2f', linewidths=0.5)\n",
        "plt.title('Matriz de Correlação')\n",
        "plt.show()\n"
      ],
      "metadata": {
        "id": "yvOaNuYJ-U0v"
      },
      "execution_count": null,
      "outputs": []
    },
    {
      "cell_type": "markdown",
      "source": [
        "Comparação da idade dos Locatários"
      ],
      "metadata": {
        "id": "0vQYEELK_59O"
      }
    },
    {
      "cell_type": "code",
      "source": [
        "# Contagem de locatários com idade maior que 25\n",
        "locatario_maior25 = df[df['idade_locatario'] > 25].shape[0]\n",
        "\n",
        "# Contagem de locatários com idade menor que 25\n",
        "locatario_menor25 = df[df['idade_locatario'] < 25].shape[0]\n",
        "\n",
        "# Criando o gráfico de barras\n",
        "plt.figure(figsize=(8, 6))\n",
        "plt.bar(['Maior que 25', 'Menor que 25'], [locatario_maior25, locatario_menor25], color=['skyblue', 'salmon'])\n",
        "\n",
        "# Adicionando números nas barras\n",
        "for i, value in enumerate([locatario_maior25, locatario_menor25]):\n",
        "    plt.text(i, value + 0.1, str(value), ha='center')\n",
        "\n",
        "plt.title('Comparação de Locatários por Faixa Etária')\n",
        "plt.xlabel('Faixa Etária')\n",
        "plt.ylabel('Quantidade de Locatários')\n",
        "plt.show()\n"
      ],
      "metadata": {
        "id": "E5kFSihA_vEY"
      },
      "execution_count": null,
      "outputs": []
    },
    {
      "cell_type": "markdown",
      "source": [
        "Valor da Locação"
      ],
      "metadata": {
        "id": "N8a6b_S-AOp9"
      }
    },
    {
      "cell_type": "code",
      "source": [
        "valor_locação = df['valor_total_locacao']\n",
        "valor_locacao"
      ],
      "metadata": {
        "id": "0Z1Q5No6AOJ8"
      },
      "execution_count": null,
      "outputs": []
    },
    {
      "cell_type": "code",
      "source": [
        "# Agrupando os dados pela quantidade de diárias e calculando a média do valor total de locação\n",
        "media_valor_diaria = df.groupby('qtde_diarias')['valor_total_locacao'].mean().reset_index()\n",
        "\n",
        "# Criando o gráfico de linha\n",
        "plt.figure(figsize=(10, 6))\n",
        "plt.plot(media_valor_diaria['qtde_diarias'], media_valor_diaria['valor_total_locacao'], marker='o', color='skyblue')\n",
        "\n",
        "# Adicionando rótulos e título\n",
        "plt.title('Média do Valor Total de Locação por Quantidade de Diárias')\n",
        "plt.xlabel('Quantidade de Diárias')\n",
        "plt.ylabel('Média do Valor Total de Locação')\n",
        "\n",
        "# Exibindo o gráfico\n",
        "plt.show()\n"
      ],
      "metadata": {
        "id": "KupPQDXkBR5a"
      },
      "execution_count": null,
      "outputs": []
    },
    {
      "cell_type": "markdown",
      "source": [
        "Locações por Gênero"
      ],
      "metadata": {
        "id": "vp_bqHMaCVXi"
      }
    },
    {
      "cell_type": "code",
      "source": [
        "locacoes_por_genero = df['genero'].value_counts()\n",
        "locacoes_por_genero"
      ],
      "metadata": {
        "id": "DU0aEtjfCWOl"
      },
      "execution_count": null,
      "outputs": []
    },
    {
      "cell_type": "code",
      "source": [
        "import matplotlib.pyplot as plt\n",
        "\n",
        "locacoes_por_genero = df['genero'].value_counts()\n",
        "\n",
        "plt.figure(figsize=(8, 8))\n",
        "plt.pie(locacoes_por_genero, labels=locacoes_por_genero.index, autopct='%1.1f%%', colors=['skyblue', 'salmon'])\n",
        "plt.title('Distribuição de Locações por Gênero')\n",
        "plt.show()\n"
      ],
      "metadata": {
        "id": "IkNP8v_LFVoU"
      },
      "execution_count": null,
      "outputs": []
    },
    {
      "cell_type": "markdown",
      "source": [
        "Média de Idade dos Locatários"
      ],
      "metadata": {
        "id": "pQ5rfhsrCalc"
      }
    },
    {
      "cell_type": "code",
      "source": [
        "media_idade_locatarios = df['idade_locatario'].mean()\n",
        "media_idade_locatarios.round()"
      ],
      "metadata": {
        "id": "Qh3jcppKCdrZ"
      },
      "execution_count": null,
      "outputs": []
    },
    {
      "cell_type": "markdown",
      "source": [
        "Total de Locações por Estado"
      ],
      "metadata": {
        "id": "237fZS6RCl9W"
      }
    },
    {
      "cell_type": "code",
      "source": [
        "locacoes_por_estado = df['Estado'].value_counts()\n",
        "locacoes_por_estado"
      ],
      "metadata": {
        "id": "o9Mpz05UCnFx"
      },
      "execution_count": null,
      "outputs": []
    },
    {
      "cell_type": "code",
      "source": [
        "locacoes_por_estado = df['Estado'].value_counts()\n",
        "\n",
        "# Definindo uma paleta de cores única para cada estado\n",
        "cores_por_estado = sns.color_palette('pastel', n_colors=len(locacoes_por_estado))\n",
        "\n",
        "plt.figure(figsize=(12, 6))\n",
        "bars = plt.bar(locacoes_por_estado.index, locacoes_por_estado, color=cores_por_estado)\n",
        "\n",
        "# Adicionando números nas barras\n",
        "for bar in bars:\n",
        "    plt.text(bar.get_x() + bar.get_width() / 2 - 0.1, bar.get_height() + 0.1, str(int(bar.get_height())), ha='center')\n",
        "\n",
        "plt.title('Total de Locações por Estado')\n",
        "plt.xlabel('Estado')\n",
        "plt.ylabel('Quantidade de Locações')\n",
        "plt.show()\n"
      ],
      "metadata": {
        "id": "xD0Ul_IlF3ij"
      },
      "execution_count": null,
      "outputs": []
    },
    {
      "cell_type": "markdown",
      "source": [
        "Média de Quilometragem percorrida\n"
      ],
      "metadata": {
        "id": "4JGF3GbmCupB"
      }
    },
    {
      "cell_type": "code",
      "source": [
        "media_quilometragem = df['quilometragem'].mean()\n",
        "media_quilometragem.round(2)"
      ],
      "metadata": {
        "id": "q6sVAqI1CyQp"
      },
      "execution_count": null,
      "outputs": []
    },
    {
      "cell_type": "markdown",
      "source": [
        "Locações com Ar-condicionado"
      ],
      "metadata": {
        "id": "3JmIuonHC6u7"
      }
    },
    {
      "cell_type": "code",
      "source": [
        "locacoes_com_ar_condicionado = df[df['ar_condicionado'] == 'com ar condicionado'].shape[0]\n",
        "locacoes_com_ar_condicionado"
      ],
      "metadata": {
        "id": "MwpoYt69C7k1"
      },
      "execution_count": null,
      "outputs": []
    },
    {
      "cell_type": "markdown",
      "source": [
        "Valor Médio de Locação por Diária"
      ],
      "metadata": {
        "id": "jQnzSoZeDQ7J"
      }
    },
    {
      "cell_type": "code",
      "source": [
        "valor_medio_diaria = df['valor_total_locacao'].mean() / df['qtde_diarias'].mean()\n",
        "valor_medio_diaria.round(2)"
      ],
      "metadata": {
        "id": "JIzR2BtSDRiy"
      },
      "execution_count": null,
      "outputs": []
    },
    {
      "cell_type": "markdown",
      "source": [
        "Locações com Quilometragem Alta (> 300km)"
      ],
      "metadata": {
        "id": "gFdhYDPNDb6J"
      }
    },
    {
      "cell_type": "code",
      "source": [
        "locacoes_quilometragem_alta = df[df['quilometragem'] > 300].shape[0]\n",
        "locacoes_quilometragem_alta"
      ],
      "metadata": {
        "id": "Md1VsDDHDckj"
      },
      "execution_count": null,
      "outputs": []
    },
    {
      "cell_type": "markdown",
      "source": [
        "Locações mais Caras"
      ],
      "metadata": {
        "id": "r29bA_JfES9q"
      }
    },
    {
      "cell_type": "code",
      "source": [
        "locacoes_mais_caras = df.sort_values(by='valor_total_locacao', ascending=False).head()\n",
        "locacoes_mais_caras"
      ],
      "metadata": {
        "id": "DG10rUy8EWA6"
      },
      "execution_count": null,
      "outputs": []
    },
    {
      "cell_type": "markdown",
      "source": [
        "Média do Valor de Locação por Faixa Etária"
      ],
      "metadata": {
        "id": "TakTbktsEgyK"
      }
    },
    {
      "cell_type": "code",
      "source": [
        "df['faixa_etaria'] = pd.cut(df['idade_locatario'], bins=[18, 25, 35, 50, 100], labels=['18-25', '26-35', '36-50', '51+'])\n",
        "media_valor_por_faixa_etaria = df.groupby('faixa_etaria')['valor_total_locacao'].mean().round()\n",
        "media_valor_por_faixa_etaria"
      ],
      "metadata": {
        "id": "-PGxtlwREhzh"
      },
      "execution_count": null,
      "outputs": []
    },
    {
      "cell_type": "markdown",
      "source": [
        "Locações por Mês"
      ],
      "metadata": {
        "id": "ENoNwUkhEz9N"
      }
    },
    {
      "cell_type": "code",
      "source": [
        "# Convertendo 'data_inicio_locacao' para formato de data\n",
        "df['data_inicio_locacao'] = pd.to_datetime(df['data_inicio_locacao'])\n",
        "\n",
        "# Criando a coluna 'mes'\n",
        "df['mes'] = df['data_inicio_locacao'].dt.month\n",
        "\n",
        "# Contagem de locações por mês\n",
        "locacoes_por_mes = df['mes'].value_counts()\n",
        "\n",
        "# Mostrar resultados\n",
        "locacoes_por_mes\n"
      ],
      "metadata": {
        "id": "2p6d-CPuE0qt"
      },
      "execution_count": null,
      "outputs": []
    },
    {
      "cell_type": "markdown",
      "source": [
        "Distribuição de Valores de Locação: Histograma"
      ],
      "metadata": {
        "id": "WyiOU51AHY2i"
      }
    },
    {
      "cell_type": "code",
      "source": [
        "plt.figure(figsize=(10, 6))\n",
        "\n",
        "# Histograma\n",
        "n, bins, patches = plt.hist(df['valor_total_locacao'], bins=20, color='skyblue', edgecolor='black')\n",
        "\n",
        "# Adiciona os números nas barras\n",
        "for value, count, patch in zip(bins[:-1], n, patches):\n",
        "    plt.text(value + (bins[1] - bins[0]) / 2, count, str(int(count)), ha='center', va='bottom')\n",
        "\n",
        "plt.title('Distribuição de Valores de Locação')\n",
        "plt.xlabel('Valor Total de Locação')\n",
        "plt.ylabel('Frequência')\n",
        "plt.show()\n"
      ],
      "metadata": {
        "id": "VGTlMz86HlJj"
      },
      "execution_count": null,
      "outputs": []
    },
    {
      "cell_type": "code",
      "source": [],
      "metadata": {
        "id": "YVv6Vj9FHk5q"
      },
      "execution_count": null,
      "outputs": []
    }
  ]
}