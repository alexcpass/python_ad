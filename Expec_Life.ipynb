{
  "nbformat": 4,
  "nbformat_minor": 0,
  "metadata": {
    "colab": {
      "private_outputs": true,
      "provenance": [],
      "authorship_tag": "ABX9TyPn8RFr4I5j2Ooh+eRLtmVQ",
      "include_colab_link": true
    },
    "kernelspec": {
      "name": "python3",
      "display_name": "Python 3"
    },
    "language_info": {
      "name": "python"
    }
  },
  "cells": [
    {
      "cell_type": "markdown",
      "metadata": {
        "id": "view-in-github",
        "colab_type": "text"
      },
      "source": [
        "<a href=\"https://colab.research.google.com/github/alexcpass/python_ad/blob/main/Expec_Life.ipynb\" target=\"_parent\"><img src=\"https://colab.research.google.com/assets/colab-badge.svg\" alt=\"Open In Colab\"/></a>"
      ]
    },
    {
      "cell_type": "code",
      "execution_count": null,
      "metadata": {
        "id": "Vk-g8JeSHUSX"
      },
      "outputs": [],
      "source": [
        "import numpy as np\n",
        "import pandas as pd\n",
        "from matplotlib import pyplot as plt\n",
        "import seaborn as sns\n",
        "import csv\n",
        "import openpyxl"
      ]
    },
    {
      "cell_type": "code",
      "source": [
        "sns.get_dataset_names()"
      ],
      "metadata": {
        "id": "VQwWSP_pHscf"
      },
      "execution_count": null,
      "outputs": []
    },
    {
      "cell_type": "code",
      "source": [
        "dados = sns.load_dataset(\"healthexp\")\n",
        "dados.head()"
      ],
      "metadata": {
        "id": "22LeBNuxj5pr"
      },
      "execution_count": null,
      "outputs": []
    },
    {
      "cell_type": "code",
      "source": [
        "dados.shape"
      ],
      "metadata": {
        "id": "eb3T0RU0nUkC"
      },
      "execution_count": null,
      "outputs": []
    },
    {
      "cell_type": "code",
      "source": [
        "dados.value_counts()"
      ],
      "metadata": {
        "id": "VYBi7DvDlLlX"
      },
      "execution_count": null,
      "outputs": []
    },
    {
      "cell_type": "markdown",
      "source": [
        "#Qtd Paises(Country)"
      ],
      "metadata": {
        "id": "XEP6HVkUmY8q"
      }
    },
    {
      "cell_type": "code",
      "source": [
        "dados['Country'].unique()"
      ],
      "metadata": {
        "id": "2vCAYHzWlU3E"
      },
      "execution_count": null,
      "outputs": []
    },
    {
      "cell_type": "markdown",
      "source": [
        "#Limpeza, tratamento (ETL)"
      ],
      "metadata": {
        "id": "Jeo_Ehj9mkXH"
      }
    },
    {
      "cell_type": "code",
      "source": [
        "dados = dados[dados['Year'].notna()]\n",
        "dados = dados[dados['Country'].notna()]\n",
        "dados = dados[dados['Spending_USD'].notna()]\n",
        "dados = dados[dados['Life_Expectancy'].notna()]"
      ],
      "metadata": {
        "id": "XPVuqKwCmp2Q"
      },
      "execution_count": null,
      "outputs": []
    },
    {
      "cell_type": "code",
      "source": [
        "dados.shape"
      ],
      "metadata": {
        "id": "rGlUrP4SnG0b"
      },
      "execution_count": null,
      "outputs": []
    },
    {
      "cell_type": "markdown",
      "source": [
        "#Exploração dos dados (data exploration)"
      ],
      "metadata": {
        "id": "j3GxbeZLnznn"
      }
    },
    {
      "cell_type": "code",
      "source": [
        "dados.head()"
      ],
      "metadata": {
        "id": "S16p5P5_nQrn"
      },
      "execution_count": null,
      "outputs": []
    },
    {
      "cell_type": "code",
      "source": [
        "dados['Spending_USD'].max()"
      ],
      "metadata": {
        "id": "ZEqUC_Isnr5I"
      },
      "execution_count": null,
      "outputs": []
    },
    {
      "cell_type": "code",
      "source": [
        "dados['Life_Expectancy'].describe().round(2)"
      ],
      "metadata": {
        "id": "uWM2FVHLoSOe"
      },
      "execution_count": null,
      "outputs": []
    },
    {
      "cell_type": "markdown",
      "source": [
        "#Primeiro exemplo grafico (first graphic example)"
      ],
      "metadata": {
        "id": "2VPskpRUogrF"
      }
    },
    {
      "cell_type": "code",
      "source": [
        "dados['Life_Expectancy'].plot(kind='hist')"
      ],
      "metadata": {
        "id": "zMVI7Z8corR0"
      },
      "execution_count": null,
      "outputs": []
    },
    {
      "cell_type": "code",
      "source": [
        "sns.barplot(data=dados, x='Country', y='Life_Expectancy')"
      ],
      "metadata": {
        "id": "sRbm_1EA3zE4"
      },
      "execution_count": null,
      "outputs": []
    },
    {
      "cell_type": "markdown",
      "source": [
        "#Exploração de dados(data exploration)"
      ],
      "metadata": {
        "id": "sdplpv3o1jgc"
      }
    },
    {
      "cell_type": "code",
      "source": [
        "Country_Life = dados.groupby('Country')['Life_Expectancy'].mean()\n",
        "Country_Life"
      ],
      "metadata": {
        "id": "HcBE3gCQpMuV"
      },
      "execution_count": null,
      "outputs": []
    },
    {
      "cell_type": "code",
      "source": [
        "mean_USD = dados.groupby('Spending_USD')\n",
        "mean_USD.head()"
      ],
      "metadata": {
        "id": "Mlc1_4pv0Fqc"
      },
      "execution_count": null,
      "outputs": []
    },
    {
      "cell_type": "code",
      "source": [
        "max_spend = dados[['Country', 'Spending_USD']].groupby('Country').agg('max')"
      ],
      "metadata": {
        "id": "hmFVe4TY2hoY"
      },
      "execution_count": null,
      "outputs": []
    },
    {
      "cell_type": "code",
      "source": [
        "max_spend"
      ],
      "metadata": {
        "id": "_dONxhAf27Sa"
      },
      "execution_count": null,
      "outputs": []
    },
    {
      "cell_type": "code",
      "source": [
        "min_spend = dados[['Country', 'Spending_USD']].groupby('Country').agg('min')\n",
        "min_spend"
      ],
      "metadata": {
        "id": "AjZJGhY33IKq"
      },
      "execution_count": null,
      "outputs": []
    },
    {
      "cell_type": "code",
      "source": [
        "life_country = dados.to_csv('life_country.csv')"
      ],
      "metadata": {
        "id": "yFcz7KBj4T0-"
      },
      "execution_count": null,
      "outputs": []
    },
    {
      "cell_type": "code",
      "source": [
        "# Supondo que você tenha um DataFrame chamado 'dataset' com os seus dados\n",
        "dados = pd.DataFrame()\n",
        "\n",
        "# Salvar o DataFrame no arquivo Excel\n",
        "caminho_arquivo = '/content/life_country.xlsx'  # Especifique o caminho e nome do arquivo Excel\n",
        "dados.to_excel(caminho_arquivo, index=False)  # Salvar o DataFrame no arquivo Excel sem o índice\n"
      ],
      "metadata": {
        "id": "9SfVJyCE6hwg"
      },
      "execution_count": null,
      "outputs": []
    },
    {
      "cell_type": "markdown",
      "source": [
        "The rest will be views in Power BI"
      ],
      "metadata": {
        "id": "7sVGa53l3lJ4"
      }
    },
    {
      "cell_type": "markdown",
      "source": [
        "https://app.powerbi.com/view?r=eyJrIjoiMmZlYmIxYTEtYjI3Zi00Y2ZmLThlZDYtNjcwNWZmYzQyYTI2IiwidCI6IjcxN2MzMTU1LTk4MGEtNDVjZS1iMjBjLWFiNmQwZTY0MmQxMSJ9"
      ],
      "metadata": {
        "id": "p61DksxaTYtJ"
      }
    }
  ]
}