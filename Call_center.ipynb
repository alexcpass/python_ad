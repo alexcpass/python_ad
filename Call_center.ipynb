{
  "nbformat": 4,
  "nbformat_minor": 0,
  "metadata": {
    "colab": {
      "private_outputs": true,
      "provenance": [],
      "authorship_tag": "ABX9TyMMVpzujeURuk8U9OWPfuVj",
      "include_colab_link": true
    },
    "kernelspec": {
      "name": "python3",
      "display_name": "Python 3"
    },
    "language_info": {
      "name": "python"
    }
  },
  "cells": [
    {
      "cell_type": "markdown",
      "metadata": {
        "id": "view-in-github",
        "colab_type": "text"
      },
      "source": [
        "<a href=\"https://colab.research.google.com/github/alexcpass/python_ad/blob/main/Call_center.ipynb\" target=\"_parent\"><img src=\"https://colab.research.google.com/assets/colab-badge.svg\" alt=\"Open In Colab\"/></a>"
      ]
    },
    {
      "cell_type": "markdown",
      "source": [
        "#Projeto de analise de um banco de dados de um Call Center\n",
        "\n",
        "Iremos desenvolver um trabalho em que iremos verificar:\n",
        "\n",
        "*   Total de Chamadas\n",
        "*   Chamads por Estado\n",
        "*   Classificação por Sentimento\n",
        "*   Chamadas por Call Center (Região)\n",
        "\n",
        "Eventualmente, outras análises poderão surgir e serão devidamente documentadas.\n",
        "No final desse trabalho segue um link para acesso desta mesma análise feita no Power BI"
      ],
      "metadata": {
        "id": "I0zTUMX_LVfV"
      }
    },
    {
      "cell_type": "markdown",
      "source": [
        "Importar bibliotecas"
      ],
      "metadata": {
        "id": "CQVZ37mUQAtX"
      }
    },
    {
      "cell_type": "code",
      "source": [
        "!pip install plotly\n"
      ],
      "metadata": {
        "id": "9JHoSCcecxpR"
      },
      "execution_count": null,
      "outputs": []
    },
    {
      "cell_type": "code",
      "source": [
        "import pandas as pd\n",
        "import numpy as np\n",
        "import seaborn as sns\n",
        "import matplotlib.pyplot as plt\n",
        "import plotly.express as px\n"
      ],
      "metadata": {
        "id": "cVSDNVaDP_7T"
      },
      "execution_count": null,
      "outputs": []
    },
    {
      "cell_type": "markdown",
      "source": [
        "Importar arquivo/ Ler arquivo"
      ],
      "metadata": {
        "id": "uvng57zuMF54"
      }
    },
    {
      "cell_type": "code",
      "execution_count": null,
      "metadata": {
        "id": "Lc726-tzLS7u"
      },
      "outputs": [],
      "source": [
        "df = pd.read_csv('/content/Call Center_Call Center40.csv',sep=',')"
      ]
    },
    {
      "cell_type": "code",
      "source": [
        "df.head()"
      ],
      "metadata": {
        "id": "szX2DbaeQXBX"
      },
      "execution_count": null,
      "outputs": []
    },
    {
      "cell_type": "code",
      "source": [
        "df.shape"
      ],
      "metadata": {
        "id": "9ERF0-JPQeAr"
      },
      "execution_count": null,
      "outputs": []
    },
    {
      "cell_type": "markdown",
      "source": [
        "Total de chamadas (arquivo)"
      ],
      "metadata": {
        "id": "pRasnsncQjr9"
      }
    },
    {
      "cell_type": "code",
      "source": [
        "total_chamadas = df['Id'].count()"
      ],
      "metadata": {
        "id": "Xv1LWxOYR2h_"
      },
      "execution_count": null,
      "outputs": []
    },
    {
      "cell_type": "code",
      "source": [
        "print('O total de chamadas é de %s registros.' % total_chamadas)"
      ],
      "metadata": {
        "id": "xLPQVoM-RXBE"
      },
      "execution_count": null,
      "outputs": []
    },
    {
      "cell_type": "markdown",
      "source": [
        "Duração das chamadas"
      ],
      "metadata": {
        "id": "phVrS79MSP2M"
      }
    },
    {
      "cell_type": "code",
      "source": [
        "duracao_chamadas = df['Call Duration In Minutes'].sum()"
      ],
      "metadata": {
        "id": "4M2KduYSSJ6i"
      },
      "execution_count": null,
      "outputs": []
    },
    {
      "cell_type": "code",
      "source": [
        "print('O total das chamadas em minutos é de %s minutos.' % duracao_chamadas)"
      ],
      "metadata": {
        "id": "KFBS7E0oSZie"
      },
      "execution_count": null,
      "outputs": []
    },
    {
      "cell_type": "markdown",
      "source": [
        "Média de duração das chamadas em minutos"
      ],
      "metadata": {
        "id": "Ldg1C2dXSsnj"
      }
    },
    {
      "cell_type": "code",
      "source": [
        "media_chamadas = df['Call Duration In Minutes'].mean().round(2)"
      ],
      "metadata": {
        "id": "0rAY5ob4SofE"
      },
      "execution_count": null,
      "outputs": []
    },
    {
      "cell_type": "code",
      "source": [
        "print('A média das chamadas em minutos é de %s minutos.' % media_chamadas)"
      ],
      "metadata": {
        "id": "GKk-bgKrS5GW"
      },
      "execution_count": null,
      "outputs": []
    },
    {
      "cell_type": "markdown",
      "source": [
        "Motivo das Chamadas"
      ],
      "metadata": {
        "id": "dpwAo6vCe22-"
      }
    },
    {
      "cell_type": "code",
      "source": [
        "motivo = df['Reason'].value_counts()\n",
        "motivo"
      ],
      "metadata": {
        "id": "UL3I8tQHe1uZ"
      },
      "execution_count": null,
      "outputs": []
    },
    {
      "cell_type": "markdown",
      "source": [
        "Onde temos:\n",
        "\n",
        "Billing Questions = Duvidas no faturamento\n",
        "Payments = Pagamentos\n",
        "Service Outage = Cancelamentos"
      ],
      "metadata": {
        "id": "dsWgGqs4fUL1"
      }
    },
    {
      "cell_type": "code",
      "source": [
        "total_chamadas_por_motivo = df.groupby('Reason')['Id'].count().reset_index()\n",
        "\n",
        "fig = px.treemap(total_chamadas_por_motivo, path=['Reason'], values='Id', title='Motivo das Chamadas x Total de Chamadas')\n",
        "fig.update_traces(textinfo='label+percent entry')\n",
        "fig.update_layout(uniformtext_minsize=12, uniformtext_mode='hide')\n",
        "fig.show()\n",
        "\n"
      ],
      "metadata": {
        "id": "PfdMrksTf2H_"
      },
      "execution_count": null,
      "outputs": []
    },
    {
      "cell_type": "markdown",
      "source": [
        "Total de Chamadas por Canal"
      ],
      "metadata": {
        "id": "9inbYdQUT2AR"
      }
    },
    {
      "cell_type": "code",
      "source": [
        "# Calcule o total de chamadas por canal\n",
        "total_chamadas_canal = df['Channel'].value_counts()\n",
        "\n",
        "# Calcule as porcentagens\n",
        "porcentagens = (total_chamadas_canal / total_chamadas_canal.sum().round(2)) * 100\n",
        "porcentagens"
      ],
      "metadata": {
        "id": "zHi84i18UGmx"
      },
      "execution_count": null,
      "outputs": []
    },
    {
      "cell_type": "markdown",
      "source": [
        "Chamadas por canal"
      ],
      "metadata": {
        "id": "Pf9eJyA3bYw9"
      }
    },
    {
      "cell_type": "code",
      "source": [
        "plt.figure(figsize=(10, 6))\n",
        "bars = porcentagens.plot(kind='bar', color='green')\n",
        "plt.title('Total de Chamadas por Canal em Porcentagem')\n",
        "plt.ylabel('Porcentagem')\n",
        "plt.xlabel('Canal')\n",
        "plt.xticks(rotation=45)\n",
        "\n",
        "for bar, percentage in zip(bars.patches, porcentagens):\n",
        "    plt.annotate(f'{percentage:.2f}%', (bar.get_x() + bar.get_width() / 2, bar.get_height()), ha='center', va='bottom')\n",
        "plt.show()"
      ],
      "metadata": {
        "id": "t1xmf3rWbV5d"
      },
      "execution_count": null,
      "outputs": []
    },
    {
      "cell_type": "markdown",
      "source": [
        "Grafico que demonstra a relação de Total de Chamadas por Cidade"
      ],
      "metadata": {
        "id": "oL1iLVUNc1ch"
      }
    },
    {
      "cell_type": "code",
      "source": [
        "total_chamadas_por_sentimento = df.groupby('Sentiment')['Id'].count()\n",
        "total_chamadas_por_sentimento"
      ],
      "metadata": {
        "id": "sh9trN1XeUbN"
      },
      "execution_count": null,
      "outputs": []
    },
    {
      "cell_type": "code",
      "source": [
        "plt.figure(figsize=(10, 6))\n",
        "ax = total_chamadas_por_sentimento.plot(kind='bar', color='cyan')\n",
        "plt.title('Total de Chamadas por Sentimento')\n",
        "plt.ylabel('Total de Chamadas')\n",
        "plt.xlabel('Sentimento')\n",
        "\n",
        "for i, v in enumerate(total_chamadas_por_sentimento):\n",
        "    ax.text(i, v, str(v), ha='center', va='bottom')\n",
        "\n",
        "plt.xticks(rotation=0)\n",
        "plt.show()\n",
        "\n"
      ],
      "metadata": {
        "id": "jm5QDX-Zc-08"
      },
      "execution_count": null,
      "outputs": []
    },
    {
      "cell_type": "code",
      "source": [
        "total_chamadas_estado = df.groupby('State')['Id'].count().reset_index()\n",
        "\n",
        "fig = px.treemap(total_chamadas_estado, path=['State'], values='Id', title='Chamadas por Estado x Total de Chamadas')\n",
        "fig.update_traces(textinfo='label+percent entry')\n",
        "fig.update_layout(uniformtext_minsize=12, uniformtext_mode='hide')\n",
        "fig.show()\n"
      ],
      "metadata": {
        "id": "eJ1hLPntgn6d"
      },
      "execution_count": null,
      "outputs": []
    },
    {
      "cell_type": "markdown",
      "source": [
        "Link para acesso do projeto no Power BI\n",
        "\n",
        "(https://app.powerbi.com/links/B0rOyJuSk9?ctid=717c3155-980a-45ce-b20c-ab6d0e642d11&pbi_source=linkShare)"
      ],
      "metadata": {
        "id": "oUjUNUvEiQuD"
      }
    }
  ]
}