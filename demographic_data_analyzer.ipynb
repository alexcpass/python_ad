{
  "nbformat": 4,
  "nbformat_minor": 0,
  "metadata": {
    "colab": {
      "private_outputs": true,
      "provenance": [],
      "mount_file_id": "1eoOWeJWAADs6KB6IXfQrPjx0dnA_IEt6",
      "authorship_tag": "ABX9TyOeen4KUmDDj7BQjLj/MPy8",
      "include_colab_link": true
    },
    "kernelspec": {
      "name": "python3",
      "display_name": "Python 3"
    },
    "language_info": {
      "name": "python"
    }
  },
  "cells": [
    {
      "cell_type": "markdown",
      "metadata": {
        "id": "view-in-github",
        "colab_type": "text"
      },
      "source": [
        "<a href=\"https://colab.research.google.com/github/alexcpass/python_ad/blob/main/demographic_data_analyzer.ipynb\" target=\"_parent\"><img src=\"https://colab.research.google.com/assets/colab-badge.svg\" alt=\"Open In Colab\"/></a>"
      ]
    },
    {
      "cell_type": "code",
      "execution_count": null,
      "metadata": {
        "id": "t_ou_X-oig3a"
      },
      "outputs": [],
      "source": [
        "import numpy as np\n",
        "import pandas as pd\n",
        "from matplotlib import pyplot as plt\n",
        "import seaborn as sns"
      ]
    },
    {
      "cell_type": "code",
      "source": [
        "df = pd.read_csv('/content/adult.data.csv', sep=',')"
      ],
      "metadata": {
        "id": "-lyFynuji--V"
      },
      "execution_count": null,
      "outputs": []
    },
    {
      "cell_type": "code",
      "source": [
        "df.head(2)"
      ],
      "metadata": {
        "id": "mL18BodukqFp"
      },
      "execution_count": null,
      "outputs": []
    },
    {
      "cell_type": "code",
      "source": [
        "df.info()"
      ],
      "metadata": {
        "id": "-qfqpTcCk5YV"
      },
      "execution_count": null,
      "outputs": []
    },
    {
      "cell_type": "code",
      "source": [
        "df.describe()"
      ],
      "metadata": {
        "id": "ZTwVqAqWk81G"
      },
      "execution_count": null,
      "outputs": []
    },
    {
      "cell_type": "code",
      "source": [
        "sns.histplot(data=df, x='age', bins=30,palette='rainbow')\n",
        "plt.show()"
      ],
      "metadata": {
        "id": "tCEMygyJlo97"
      },
      "execution_count": null,
      "outputs": []
    },
    {
      "cell_type": "code",
      "source": [
        "sns.boxplot(data=df, x='age',y='race',palette='rainbow')\n",
        "plt.show()"
      ],
      "metadata": {
        "id": "Lf6uAPlYm-Xv"
      },
      "execution_count": null,
      "outputs": []
    },
    {
      "cell_type": "markdown",
      "source": [
        "Ranking - Mean Age"
      ],
      "metadata": {
        "id": "DHWKcW4ivr_S"
      }
    },
    {
      "cell_type": "code",
      "source": [
        "Ranking_mean = df[['age', 'sex',]].groupby('sex').agg('mean').sort_values(by='age', ascending=True).iloc[0:10]"
      ],
      "metadata": {
        "id": "BszhjeOSvuVK"
      },
      "execution_count": null,
      "outputs": []
    },
    {
      "cell_type": "code",
      "source": [
        "Ranking_mean.round(2)"
      ],
      "metadata": {
        "id": "Fa5L5FvVwZXV"
      },
      "execution_count": null,
      "outputs": []
    },
    {
      "cell_type": "markdown",
      "source": [
        "Race (People)"
      ],
      "metadata": {
        "id": "MUvZnktIgcHI"
      }
    },
    {
      "cell_type": "code",
      "source": [
        "# Criar matriz de contagem\n",
        "heatmap_data = pd.crosstab(df['race'], df['sex'])\n",
        "\n",
        "# Criar mapa de calor\n",
        "plt.figure(figsize=(10, 8))\n",
        "sns.heatmap(heatmap_data, cmap='Blues', annot=True, fmt='d', cbar=True)\n",
        "plt.xlabel('Sex')\n",
        "plt.ylabel('Race')\n",
        "plt.title('Heatmap of Race and Sex')\n",
        "plt.show()"
      ],
      "metadata": {
        "id": "s42YTbIJe4AK"
      },
      "execution_count": null,
      "outputs": []
    },
    {
      "cell_type": "markdown",
      "source": [],
      "metadata": {
        "id": "1cL5zaikgTeb"
      }
    },
    {
      "cell_type": "markdown",
      "source": [
        "Age - Male (Mean)"
      ],
      "metadata": {
        "id": "PppZYwsCjJor"
      }
    },
    {
      "cell_type": "code",
      "source": [
        "age_man = df[['sex', 'age']].groupby('sex').agg('mean').query('sex == \"Male\"')"
      ],
      "metadata": {
        "id": "gZZ9KH22jIph"
      },
      "execution_count": null,
      "outputs": []
    },
    {
      "cell_type": "code",
      "source": [
        "age_man.round(2)"
      ],
      "metadata": {
        "id": "4VjPsEETjw80"
      },
      "execution_count": null,
      "outputs": []
    },
    {
      "cell_type": "markdown",
      "source": [
        "Bachelors (%)"
      ],
      "metadata": {
        "id": "P9IbFThwkS_F"
      }
    },
    {
      "cell_type": "code",
      "source": [
        "bachelors = df[['education', 'sex']].groupby('education').agg('count').query('education == \"Bachelors\"')"
      ],
      "metadata": {
        "id": "bJiGTMgwkSG4"
      },
      "execution_count": null,
      "outputs": []
    },
    {
      "cell_type": "code",
      "source": [
        "bachelors.round(2)"
      ],
      "metadata": {
        "id": "8RREoTkVk_Cz"
      },
      "execution_count": null,
      "outputs": []
    },
    {
      "cell_type": "code",
      "source": [
        "total_educ = df['education'].count()\n",
        "total_educ.round()"
      ],
      "metadata": {
        "id": "hgQXc8YSmyRe"
      },
      "execution_count": null,
      "outputs": []
    },
    {
      "cell_type": "code",
      "source": [
        "bachelors_per = (bachelors/total_educ)*100\n",
        "bachelors_per.round(2)"
      ],
      "metadata": {
        "id": "Mp8_rJIhlh6w"
      },
      "execution_count": null,
      "outputs": []
    },
    {
      "cell_type": "code",
      "source": [
        "df.head(1)"
      ],
      "metadata": {
        "id": "P-d0TR5C-y1I"
      },
      "execution_count": null,
      "outputs": []
    },
    {
      "cell_type": "markdown",
      "source": [
        "Percentage of people (50k)"
      ],
      "metadata": {
        "id": "vBqDFK8srwNa"
      }
    },
    {
      "cell_type": "code",
      "source": [
        "# Filtrar as linhas com educação avançada e salário acima de 50 mil\n",
        "filtro = (df['education'].isin(['Bachelors', 'Masters', 'Doctorate'])) & (df['salary'] == '>50K')\n",
        "pessoas_avancadas_50k = df[filtro]\n",
        "porcentagem = (len(pessoas_avancadas_50k) / len(df[df['education'].isin(['Bachelors', 'Masters', 'Doctorate'])])) * 100\n",
        "\n",
        "print(f\"The percentage of people with advanced education (>50k) is:: {porcentagem:.2f}%\")\n"
      ],
      "metadata": {
        "id": "ZnkCnAIj_Vcd"
      },
      "execution_count": null,
      "outputs": []
    },
    {
      "cell_type": "code",
      "source": [
        "valores_distintos = df['education'].unique()\n",
        "valores_distintos = df['education'].drop_duplicates()\n",
        "print(valores_distintos)"
      ],
      "metadata": {
        "id": "m_2NTyS3AdrQ"
      },
      "execution_count": null,
      "outputs": []
    },
    {
      "cell_type": "code",
      "source": [
        "filtro = (df['education'].isin(['HS-grad', '11th', '9th','Some-college','Assoc-acdm','Assoc-voc','7th-8th','Prof-school','5th-6th','10th','1st-4th','Preschool','12th'])) & (df['salary'] == '>50K')\n",
        "pessoas_sem_educ_50k = df[filtro]\n",
        "porcentagem = (len(pessoas_sem_educ_50k) / len(df[df['education'].isin(['HS-grad', '11th', '9th','Some-college','Assoc-acdm','Assoc-voc','7th-8th','Prof-school','5th-6th','10th','1st-4th','Preschool','12th'])])) * 100\n",
        "\n",
        "print(f\"The percentage of people without advanced education (>50k) is:: {porcentagem:.2f}%\")\n"
      ],
      "metadata": {
        "id": "D75PXPdmAOnz"
      },
      "execution_count": null,
      "outputs": []
    },
    {
      "cell_type": "code",
      "source": [
        "# Encontrar o número mínimo de horas trabalhadas por semana\n",
        "min_horas_semana = df['hours-per-week'].min()\n",
        "print(f\"Minimum number of hours a person works per week: {min_horas_semana}\")\n"
      ],
      "metadata": {
        "id": "VEiU4FfVIXA2"
      },
      "execution_count": null,
      "outputs": []
    },
    {
      "cell_type": "code",
      "source": [
        "filtro_min_horas = df['hours-per-week'] == df['hours-per-week'].min()\n",
        "pessoas_min_horas = df[filtro_min_horas]\n",
        "\n",
        "# Calcular a porcentagem\n",
        "filtro_salario = pessoas_min_horas['salary'] == '>50K'\n",
        "porcentagem = (len(pessoas_min_horas[filtro_salario]) / len(pessoas_min_horas)) * 100\n",
        "\n",
        "print(f\"Percentage of the people who work the minimum number of hours per week have a salary of more than 50K: {porcentagem:.2f}%\")\n"
      ],
      "metadata": {
        "id": "tO6RQQdTI_CH"
      },
      "execution_count": null,
      "outputs": []
    },
    {
      "cell_type": "code",
      "source": [
        "filtro_salario = df['salary'] == '>50K'\n",
        "pessoas_mais_50k = df[filtro_salario]\n",
        "\n",
        "# Calcular a porcentagem de pessoas que ganham mais de 50 mil por país\n",
        "porcentagens_por_pais = pessoas_mais_50k['native-country'].value_counts(normalize=True) * 100\n",
        "\n",
        "# Obter o país com a maior porcentagem\n",
        "pais_maior_porcentagem = porcentagens_por_pais.idxmax()\n",
        "maior_porcentagem = porcentagens_por_pais.max()\n",
        "\n",
        "print(f\"The country with the highest percentage of people earning over 50,000 is: {pais_maior_porcentagem}\")\n",
        "print(f\"The corresponding percentage is: {maior_porcentagem:.2f}%\")\n"
      ],
      "metadata": {
        "id": "QounqXatJvbt"
      },
      "execution_count": null,
      "outputs": []
    },
    {
      "cell_type": "code",
      "source": [
        "# Filtrar as linhas com salário superior a 50 mil e país igual a Índia\n",
        "filtro_salario = df['salary'] == '>50K'\n",
        "filtro_pais = df['native-country'] == 'India'\n",
        "pessoas_mais_50k_india = df[filtro_salario & filtro_pais]\n",
        "\n",
        "# Identificar a ocupação mais popular\n",
        "ocupacao_mais_popular = pessoas_mais_50k_india['occupation'].value_counts().idxmax()\n",
        "\n",
        "print(f\"The most popular occupation for people earning over 50k in India is: {ocupacao_mais_popular}\")\n"
      ],
      "metadata": {
        "id": "q_hm8IkWKO61"
      },
      "execution_count": null,
      "outputs": []
    }
  ]
}