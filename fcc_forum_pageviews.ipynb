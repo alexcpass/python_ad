{
  "nbformat": 4,
  "nbformat_minor": 0,
  "metadata": {
    "colab": {
      "private_outputs": true,
      "provenance": [],
      "mount_file_id": "1KEpD4Jnd_CsmM3sqsZC9Jw5TN4BDlHBZ",
      "authorship_tag": "ABX9TyOi6lGm+oDQxt5ztb2KyCH5",
      "include_colab_link": true
    },
    "kernelspec": {
      "name": "python3",
      "display_name": "Python 3"
    },
    "language_info": {
      "name": "python"
    }
  },
  "cells": [
    {
      "cell_type": "markdown",
      "metadata": {
        "id": "view-in-github",
        "colab_type": "text"
      },
      "source": [
        "<a href=\"https://colab.research.google.com/github/alexcpass/python_ad/blob/main/fcc_forum_pageviews.ipynb\" target=\"_parent\"><img src=\"https://colab.research.google.com/assets/colab-badge.svg\" alt=\"Open In Colab\"/></a>"
      ]
    },
    {
      "cell_type": "code",
      "execution_count": null,
      "metadata": {
        "id": "bIo49giBxGbn"
      },
      "outputs": [],
      "source": [
        "import numpy as np\n",
        "import pandas as pd\n",
        "from matplotlib import pyplot as plt\n",
        "import seaborn as sns \n",
        "import csv"
      ]
    },
    {
      "cell_type": "code",
      "source": [
        "df = pd.read_csv('/content/fcc-forum-pageviews.csv', sep=',')"
      ],
      "metadata": {
        "id": "_YZ9Vj5Pxz27"
      },
      "execution_count": null,
      "outputs": []
    },
    {
      "cell_type": "code",
      "source": [
        "df.set_index('date', inplace=True)\n",
        "df.head()"
      ],
      "metadata": {
        "id": "IA-S5wnIyfP2"
      },
      "execution_count": null,
      "outputs": []
    },
    {
      "cell_type": "code",
      "source": [
        "df = df.to_csv('fcc.csv')"
      ],
      "metadata": {
        "id": "OpN_TkXFPiwr"
      },
      "execution_count": null,
      "outputs": []
    },
    {
      "cell_type": "code",
      "source": [
        "df = pd.read_csv('/content/fcc.csv', sep=',')"
      ],
      "metadata": {
        "id": "Akvc3TglQr-E"
      },
      "execution_count": null,
      "outputs": []
    },
    {
      "cell_type": "markdown",
      "source": [
        "Cleaner"
      ],
      "metadata": {
        "id": "S5q5u73yzDbi"
      }
    },
    {
      "cell_type": "code",
      "source": [
        "df = pd.DataFrame(df)\n",
        "\n",
        "threshold = df['value'].quantile(.975)\n",
        "filtered_df = df[(df['value'] <= threshold) & (df['value'] >= df['value'].quantile(.025))]\n",
        "filtered_df.head()"
      ],
      "metadata": {
        "id": "NC4bWDXt1yPJ"
      },
      "execution_count": null,
      "outputs": []
    },
    {
      "cell_type": "code",
      "source": [
        "# Criar coluna 'ano_mes' com o ano e mês\n",
        "df['year_month'] = df['date'].str.slice(0, 7)\n",
        "\n",
        "# Criar coluna 'dia' com o dia\n",
        "df['day'] = df['date'].str.rsplit('-', n=1).str[-1]\n",
        "\n",
        "# Exibir o DataFrame resultante\n",
        "print(df)\n"
      ],
      "metadata": {
        "id": "r02o9hEOUfqR"
      },
      "execution_count": null,
      "outputs": []
    },
    {
      "cell_type": "code",
      "source": [
        "# Dividir a coluna 'date' em colunas distintas de dia, mês e ano\n",
        "df[['year', 'month', 'day']] = df['date'].str.split('-', expand=True)\n",
        "print(df)\n"
      ],
      "metadata": {
        "id": "Ss5Dm2L4WZCD"
      },
      "execution_count": null,
      "outputs": []
    },
    {
      "cell_type": "code",
      "source": [
        "def draw_line_plot(df):\n",
        "    # Criar a figura com dimensões personalizadas\n",
        "    plt.figure(figsize=(12, 6))\n",
        "\n",
        "    # Desenhar o gráfico de linha\n",
        "    plt.plot(df['year_month'], df['value'], color='r', linewidth=1)\n",
        "\n",
        "    # Definir título e rótulos dos eixos\n",
        "    plt.title('Daily freeCodeCamp Forum Page Views 5/2016-12/2019')\n",
        "    plt.xlabel('Date')\n",
        "    plt.ylabel('Value')\n",
        "\n",
        "    # Girar os rótulos do eixo x em 45 graus para melhor legibilidade\n",
        "    plt.xticks(rotation=45)\n",
        "\n",
        "    # Exibir o gráfico\n",
        "    plt.show()\n",
        "draw_line_plot(df)"
      ],
      "metadata": {
        "id": "lStGptDZV26p"
      },
      "execution_count": null,
      "outputs": []
    },
    {
      "cell_type": "code",
      "source": [
        "def draw_bar_plot(df):\n",
        "    # Extrair o ano e o mês a partir da coluna 'date'\n",
        "    df['year'] = pd.to_datetime(df['date']).dt.year\n",
        "    df['month'] = pd.to_datetime(df['date']).dt.strftime('%B')\n",
        "\n",
        "    # Calcular a média das exibições de página diárias por mês e ano\n",
        "    df_grouped = df.groupby(['year', 'month'])['value'].mean().unstack()\n",
        "\n",
        "    # Criar o gráfico de barras\n",
        "    ax = df_grouped.plot(kind='bar', figsize=(10, 6))\n",
        "\n",
        "    # Definir título e rótulos dos eixos\n",
        "    ax.set_title('Average Daily Page Views by Month and Year')\n",
        "    ax.set_xlabel('Years')\n",
        "    ax.set_ylabel('Average Page Views')\n",
        "\n",
        "    # Definir a legenda com os rótulos dos meses\n",
        "    ax.legend(title='Months', title_fontsize='12')\n",
        "\n",
        "    # Exibir o gráfico\n",
        "    plt.show()\n",
        "draw_bar_plot(df)"
      ],
      "metadata": {
        "id": "lHpXZGCzb3Qh"
      },
      "execution_count": null,
      "outputs": []
    },
    {
      "cell_type": "code",
      "source": [
        "def draw_box_plot(df):\n",
        "    # Preparar os dados\n",
        "    df['year'] = pd.DatetimeIndex(df['date']).year\n",
        "    df['month'] = pd.DatetimeIndex(df['date']).strftime('%b')\n",
        "\n",
        "    # Criar os dois gráficos de caixa adjacentes\n",
        "    fig, axes = plt.subplots(nrows=1, ncols=2, figsize=(15, 6))\n",
        "\n",
        "    # Gráfico de caixa Year-wise\n",
        "    sns.boxplot(x='year', y='value', data=df, ax=axes[0])\n",
        "    axes[0].set_title('Year-wise Box Plot (Trend)')\n",
        "    axes[0].set_xlabel('Year')\n",
        "    axes[0].set_ylabel('Value')\n",
        "\n",
        "    # Gráfico de caixa Month-wise\n",
        "    sns.boxplot(x='month', y='value', data=df, ax=axes[1],\n",
        "                order=['Jan', 'Feb', 'Mar', 'Apr', 'May', 'Jun', 'Jul', 'Aug', 'Sep', 'Oct', 'Nov', 'Dec'])\n",
        "    axes[1].set_title('Month-wise Box Plot (Seasonality)')\n",
        "    axes[1].set_xlabel('Month')\n",
        "    axes[1].set_ylabel('Value')\n",
        "\n",
        "    # Ajustar a posição dos rótulos dos meses no gráfico Month-wise\n",
        "    axes[1].tick_params(axis='x', rotation=45)\n",
        "\n",
        "    # Exibir os gráficos\n",
        "    plt.tight_layout()\n",
        "    plt.show()\n",
        "draw_box_plot(df)\n"
      ],
      "metadata": {
        "id": "LB8bHm1Nc3Iw"
      },
      "execution_count": null,
      "outputs": []
    }
  ]
}