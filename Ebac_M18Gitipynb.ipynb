{
  "nbformat": 4,
  "nbformat_minor": 0,
  "metadata": {
    "colab": {
      "provenance": [],
      "authorship_tag": "ABX9TyO0uOq7xDgqEkFodULqGLrF",
      "include_colab_link": true
    },
    "kernelspec": {
      "name": "python3",
      "display_name": "Python 3"
    },
    "language_info": {
      "name": "python"
    },
    "gpuClass": "standard"
  },
  "cells": [
    {
      "cell_type": "markdown",
      "metadata": {
        "id": "view-in-github",
        "colab_type": "text"
      },
      "source": [
        "<a href=\"https://colab.research.google.com/github/alexcpass/python_ad/blob/main/Ebac_M18Gitipynb.ipynb\" target=\"_parent\"><img src=\"https://colab.research.google.com/assets/colab-badge.svg\" alt=\"Open In Colab\"/></a>"
      ]
    },
    {
      "cell_type": "code",
      "execution_count": 1,
      "metadata": {
        "id": "-vxwc8SOXFse",
        "colab": {
          "base_uri": "https://localhost:8080/"
        },
        "outputId": "9fe93254-aad5-458c-8a96-352bb9413fb2"
      },
      "outputs": [
        {
          "output_type": "stream",
          "name": "stdout",
          "text": [
            "git version 2.25.1\n"
          ]
        }
      ],
      "source": [
        "!git --version"
      ]
    },
    {
      "cell_type": "code",
      "source": [
        "!mkdir ./projeto\n",
        "!touch ./projeto/hello.py"
      ],
      "metadata": {
        "id": "GE33TDo-rhna"
      },
      "execution_count": 2,
      "outputs": []
    },
    {
      "cell_type": "code",
      "source": [
        "%cd /content/projeto/"
      ],
      "metadata": {
        "id": "nSMJcKVxs4yJ",
        "colab": {
          "base_uri": "https://localhost:8080/"
        },
        "outputId": "ea475f76-762f-4b87-badd-0001122d03f9"
      },
      "execution_count": 3,
      "outputs": [
        {
          "output_type": "stream",
          "name": "stdout",
          "text": [
            "/content/projeto\n"
          ]
        }
      ]
    },
    {
      "cell_type": "code",
      "source": [
        "!pwd"
      ],
      "metadata": {
        "id": "Kj-HTcxmui9c",
        "colab": {
          "base_uri": "https://localhost:8080/"
        },
        "outputId": "72e5c9c1-350c-4acd-ec54-8940145c6cdd"
      },
      "execution_count": 4,
      "outputs": [
        {
          "output_type": "stream",
          "name": "stdout",
          "text": [
            "/content/projeto\n"
          ]
        }
      ]
    },
    {
      "cell_type": "code",
      "source": [
        "!python3 hello.py"
      ],
      "metadata": {
        "id": "JAaWeHNPukX1"
      },
      "execution_count": 5,
      "outputs": []
    },
    {
      "cell_type": "code",
      "source": [
        "!git init"
      ],
      "metadata": {
        "id": "_LnipWbOunjx",
        "colab": {
          "base_uri": "https://localhost:8080/"
        },
        "outputId": "87d7f43a-5e22-42f4-c452-6943bca8e236"
      },
      "execution_count": 6,
      "outputs": [
        {
          "output_type": "stream",
          "name": "stdout",
          "text": [
            "Initialized empty Git repository in /content/projeto/.git/\n"
          ]
        }
      ]
    },
    {
      "cell_type": "code",
      "source": [
        "!git status"
      ],
      "metadata": {
        "id": "ALG_-hWFvmT7",
        "colab": {
          "base_uri": "https://localhost:8080/"
        },
        "outputId": "526e215e-8a2e-4760-b93a-50010c724d14"
      },
      "execution_count": 7,
      "outputs": [
        {
          "output_type": "stream",
          "name": "stdout",
          "text": [
            "On branch master\n",
            "\n",
            "No commits yet\n",
            "\n",
            "Untracked files:\n",
            "  (use \"git add <file>...\" to include in what will be committed)\n",
            "\t\u001b[31mhello.py\u001b[m\n",
            "\n",
            "nothing added to commit but untracked files present (use \"git add\" to track)\n"
          ]
        }
      ]
    },
    {
      "cell_type": "code",
      "source": [
        "# adicionar modificações\n",
        "!git add hello.py\n",
        "!git status"
      ],
      "metadata": {
        "id": "DmV1-_7Mvns2",
        "colab": {
          "base_uri": "https://localhost:8080/"
        },
        "outputId": "003d9483-495c-4c9c-a6f0-f328e62cf981"
      },
      "execution_count": 8,
      "outputs": [
        {
          "output_type": "stream",
          "name": "stdout",
          "text": [
            "On branch master\n",
            "\n",
            "No commits yet\n",
            "\n",
            "Changes to be committed:\n",
            "  (use \"git rm --cached <file>...\" to unstage)\n",
            "\t\u001b[32mnew file:   hello.py\u001b[m\n",
            "\n"
          ]
        }
      ]
    },
    {
      "cell_type": "code",
      "source": [
        "# visualizar o estado do repositório\n",
        "!git status"
      ],
      "metadata": {
        "id": "zXb6l_ySv1ln",
        "colab": {
          "base_uri": "https://localhost:8080/"
        },
        "outputId": "18843daa-ba71-4271-f926-32d6cbe9fa95"
      },
      "execution_count": 9,
      "outputs": [
        {
          "output_type": "stream",
          "name": "stdout",
          "text": [
            "On branch master\n",
            "\n",
            "No commits yet\n",
            "\n",
            "Changes to be committed:\n",
            "  (use \"git rm --cached <file>...\" to unstage)\n",
            "\t\u001b[32mnew file:   hello.py\u001b[m\n",
            "\n"
          ]
        }
      ]
    },
    {
      "cell_type": "code",
      "source": [
        "# adicionar modificações\n",
        "!git add hello.py\n",
        "!git status"
      ],
      "metadata": {
        "id": "-IpmbZtIv4Pi",
        "colab": {
          "base_uri": "https://localhost:8080/"
        },
        "outputId": "22ac3e37-6635-4a3e-fb41-80c89f4079ca"
      },
      "execution_count": 10,
      "outputs": [
        {
          "output_type": "stream",
          "name": "stdout",
          "text": [
            "On branch master\n",
            "\n",
            "No commits yet\n",
            "\n",
            "Changes to be committed:\n",
            "  (use \"git rm --cached <file>...\" to unstage)\n",
            "\t\u001b[32mnew file:   hello.py\u001b[m\n",
            "\n"
          ]
        }
      ]
    },
    {
      "cell_type": "code",
      "source": [
        "# salvar as alterações\n",
        "!git commit -m \"arquivo hello.py criado\"\n",
        "!git status"
      ],
      "metadata": {
        "id": "zpOX6dgYv706",
        "colab": {
          "base_uri": "https://localhost:8080/"
        },
        "outputId": "f74389e5-d4ec-4af1-fd77-ae786ca2ccd6"
      },
      "execution_count": 11,
      "outputs": [
        {
          "output_type": "stream",
          "name": "stdout",
          "text": [
            "\n",
            "*** Please tell me who you are.\n",
            "\n",
            "Run\n",
            "\n",
            "  git config --global user.email \"you@example.com\"\n",
            "  git config --global user.name \"Your Name\"\n",
            "\n",
            "to set your account's default identity.\n",
            "Omit --global to set the identity only in this repository.\n",
            "\n",
            "fatal: unable to auto-detect email address (got 'root@5e568b6d65c9.(none)')\n",
            "On branch master\n",
            "\n",
            "No commits yet\n",
            "\n",
            "Changes to be committed:\n",
            "  (use \"git rm --cached <file>...\" to unstage)\n",
            "\t\u001b[32mnew file:   hello.py\u001b[m\n",
            "\n"
          ]
        }
      ]
    },
    {
      "cell_type": "code",
      "source": [
        "%cd /content/\n",
        "!git --help"
      ],
      "metadata": {
        "id": "PF04s4fywAFV",
        "colab": {
          "base_uri": "https://localhost:8080/"
        },
        "outputId": "88cca42a-5f79-4b8d-e047-008b96c67ee6"
      },
      "execution_count": 12,
      "outputs": [
        {
          "output_type": "stream",
          "name": "stdout",
          "text": [
            "/content\n",
            "usage: git [--version] [--help] [-C <path>] [-c <name>=<value>]\n",
            "           [--exec-path[=<path>]] [--html-path] [--man-path] [--info-path]\n",
            "           [-p | --paginate | -P | --no-pager] [--no-replace-objects] [--bare]\n",
            "           [--git-dir=<path>] [--work-tree=<path>] [--namespace=<name>]\n",
            "           <command> [<args>]\n",
            "\n",
            "These are common Git commands used in various situations:\n",
            "\n",
            "start a working area (see also: git help tutorial)\n",
            "   clone             Clone a repository into a new directory\n",
            "   init              Create an empty Git repository or reinitialize an existing one\n",
            "\n",
            "work on the current change (see also: git help everyday)\n",
            "   add               Add file contents to the index\n",
            "   mv                Move or rename a file, a directory, or a symlink\n",
            "   restore           Restore working tree files\n",
            "   rm                Remove files from the working tree and from the index\n",
            "   sparse-checkout   Initialize and modify the sparse-checkout\n",
            "\n",
            "examine the history and state (see also: git help revisions)\n",
            "   bisect            Use binary search to find the commit that introduced a bug\n",
            "   diff              Show changes between commits, commit and working tree, etc\n",
            "   grep              Print lines matching a pattern\n",
            "   log               Show commit logs\n",
            "   show              Show various types of objects\n",
            "   status            Show the working tree status\n",
            "\n",
            "grow, mark and tweak your common history\n",
            "   branch            List, create, or delete branches\n",
            "   commit            Record changes to the repository\n",
            "   merge             Join two or more development histories together\n",
            "   rebase            Reapply commits on top of another base tip\n",
            "   reset             Reset current HEAD to the specified state\n",
            "   switch            Switch branches\n",
            "   tag               Create, list, delete or verify a tag object signed with GPG\n",
            "\n",
            "collaborate (see also: git help workflows)\n",
            "   fetch             Download objects and refs from another repository\n",
            "   pull              Fetch from and integrate with another repository or a local branch\n",
            "   push              Update remote refs along with associated objects\n",
            "\n",
            "'git help -a' and 'git help -g' list available subcommands and some\n",
            "concept guides. See 'git help <command>' or 'git help <concept>'\n",
            "to read about a specific subcommand or concept.\n",
            "See 'git help git' for an overview of the system.\n"
          ]
        }
      ]
    },
    {
      "cell_type": "markdown",
      "source": [
        "Aula 2 Git HUB"
      ],
      "metadata": {
        "id": "i1RYUjp4wu2F"
      }
    },
    {
      "cell_type": "code",
      "source": [
        "!git clone https://github.com/awesomedata/awesome-public-datasets"
      ],
      "metadata": {
        "id": "-co37TAhwx81",
        "colab": {
          "base_uri": "https://localhost:8080/"
        },
        "outputId": "efaf8105-5368-4bff-ce72-5cb7d51aa76f"
      },
      "execution_count": 13,
      "outputs": [
        {
          "output_type": "stream",
          "name": "stdout",
          "text": [
            "Cloning into 'awesome-public-datasets'...\n",
            "remote: Enumerating objects: 2065, done.\u001b[K\n",
            "remote: Counting objects: 100% (67/67), done.\u001b[K\n",
            "remote: Compressing objects: 100% (39/39), done.\u001b[K\n",
            "remote: Total 2065 (delta 42), reused 37 (delta 28), pack-reused 1998\u001b[K\n",
            "Receiving objects: 100% (2065/2065), 888.87 KiB | 8.89 MiB/s, done.\n",
            "Resolving deltas: 100% (1251/1251), done.\n"
          ]
        }
      ]
    }
  ]
}