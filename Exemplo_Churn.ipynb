{
  "nbformat": 4,
  "nbformat_minor": 0,
  "metadata": {
    "colab": {
      "private_outputs": true,
      "provenance": [],
      "authorship_tag": "ABX9TyOiz3XRcWGdIla1US3D4Gmm",
      "include_colab_link": true
    },
    "kernelspec": {
      "name": "python3",
      "display_name": "Python 3"
    },
    "language_info": {
      "name": "python"
    }
  },
  "cells": [
    {
      "cell_type": "markdown",
      "metadata": {
        "id": "view-in-github",
        "colab_type": "text"
      },
      "source": [
        "<a href=\"https://colab.research.google.com/github/alexcpass/python_ad/blob/main/Exemplo_Churn.ipynb\" target=\"_parent\"><img src=\"https://colab.research.google.com/assets/colab-badge.svg\" alt=\"Open In Colab\"/></a>"
      ]
    },
    {
      "cell_type": "markdown",
      "source": [
        "#Exemplo de analise de taxa de perda de cliente (Churn)"
      ],
      "metadata": {
        "id": "89MMQgKfQlBL"
      }
    },
    {
      "cell_type": "markdown",
      "source": [
        "Vamos criar um modelo de Machine Learning simples para prever o churn de uma empresa fictícia com base em alguns dados fictícios."
      ],
      "metadata": {
        "id": "ibZOaLZjREnj"
      }
    },
    {
      "cell_type": "markdown",
      "source": [
        "Importando as bibliotecas necessárias"
      ],
      "metadata": {
        "id": "e5cqtvPQRUZq"
      }
    },
    {
      "cell_type": "code",
      "source": [
        "import pandas as pd\n",
        "from sklearn.model_selection import train_test_split\n",
        "from sklearn.preprocessing import StandardScaler\n",
        "from sklearn.ensemble import RandomForestClassifier\n",
        "from sklearn.metrics import accuracy_score"
      ],
      "metadata": {
        "id": "IpdRqOQ_RGsO"
      },
      "execution_count": null,
      "outputs": []
    },
    {
      "cell_type": "markdown",
      "source": [],
      "metadata": {
        "id": "zuR6hLF3Qj6e"
      }
    },
    {
      "cell_type": "markdown",
      "source": [
        "Gerando dados fictícios de exemplo"
      ],
      "metadata": {
        "id": "BcaZlSXQRlRs"
      }
    },
    {
      "cell_type": "code",
      "source": [
        "data = {\n",
        "    'idade': [25, 30, 40, 28, 35, 45, 22, 50, 32, 27],\n",
        "    'saldo_conta': [500, 1200, 800, 300, 1000, 1500, 200, 1800, 900, 400],\n",
        "    'ultima_compra': [5, 10, 2, 8, 6, 3, 12, 1, 4, 9],\n",
        "    'churn': [0, 1, 0, 1, 0, 1, 0, 1, 0, 1]  # 0 - Não Churn, 1 - Churn\n",
        "}\n",
        "\n",
        "df = pd.DataFrame(data)"
      ],
      "metadata": {
        "id": "wXY9UGieRjfO"
      },
      "execution_count": null,
      "outputs": []
    },
    {
      "cell_type": "code",
      "source": [
        "df.head()"
      ],
      "metadata": {
        "id": "0MsAoG-rRjQe"
      },
      "execution_count": null,
      "outputs": []
    },
    {
      "cell_type": "markdown",
      "source": [
        "Dividindo os dados (tratamento)"
      ],
      "metadata": {
        "id": "ycmIe__ZR4IY"
      }
    },
    {
      "cell_type": "code",
      "source": [
        "# Dividindo os dados em recursos (X) e rótulos (y)\n",
        "X = df.drop('churn', axis=1)\n",
        "y = df['churn']\n",
        "\n",
        "# Dividindo os dados em conjuntos de treinamento e teste\n",
        "X_train, X_test, y_train, y_test = train_test_split(X, y, test_size=0.2, random_state=42)\n"
      ],
      "metadata": {
        "id": "Onj_LqOZR2kx"
      },
      "execution_count": null,
      "outputs": []
    },
    {
      "cell_type": "markdown",
      "source": [
        "Padronizando os dados"
      ],
      "metadata": {
        "id": "WEC6_GQwSFZN"
      }
    },
    {
      "cell_type": "code",
      "source": [
        "scaler = StandardScaler()\n",
        "X_train_scaled = scaler.fit_transform(X_train)\n",
        "X_test_scaled = scaler.transform(X_test)\n"
      ],
      "metadata": {
        "id": "c0YzjMprSAi6"
      },
      "execution_count": null,
      "outputs": []
    },
    {
      "cell_type": "markdown",
      "source": [
        "Criando e treinando o modelo de Random Forest"
      ],
      "metadata": {
        "id": "2yxol979SI-l"
      }
    },
    {
      "cell_type": "code",
      "source": [
        "model = RandomForestClassifier(random_state=42)\n",
        "model.fit(X_train_scaled, y_train)"
      ],
      "metadata": {
        "id": "mYoYDqsSSJdd"
      },
      "execution_count": null,
      "outputs": []
    },
    {
      "cell_type": "markdown",
      "source": [
        "Fazendo previsões no conjunto de teste"
      ],
      "metadata": {
        "id": "CTzC53eJSWaS"
      }
    },
    {
      "cell_type": "code",
      "source": [
        "y_pred = model.predict(X_test_scaled)\n"
      ],
      "metadata": {
        "id": "JBb4nmzgSV30"
      },
      "execution_count": null,
      "outputs": []
    },
    {
      "cell_type": "markdown",
      "source": [
        "Calculando a precisão do modelo"
      ],
      "metadata": {
        "id": "jTbdJVwKSe1k"
      }
    },
    {
      "cell_type": "code",
      "source": [
        "accuracy = accuracy_score(y_test, y_pred)\n",
        "print(f'Precisão do modelo: {accuracy:.2f}')"
      ],
      "metadata": {
        "id": "q4WiemmTSeKf"
      },
      "execution_count": null,
      "outputs": []
    },
    {
      "cell_type": "markdown",
      "source": [
        "#Vamos realizar uma análise exploratória de dados (EDA) com base nos mesmos dados fictícios gerados."
      ],
      "metadata": {
        "id": "00cFE6ArTZrT"
      }
    },
    {
      "cell_type": "code",
      "source": [
        "import pandas as pd\n",
        "import matplotlib.pyplot as plt\n",
        "import seaborn as sns"
      ],
      "metadata": {
        "id": "z4i1IV7PTmyc"
      },
      "execution_count": null,
      "outputs": []
    },
    {
      "cell_type": "code",
      "source": [
        "# Visualizando a distribuição das variáveis\n",
        "plt.figure(figsize=(12, 6))\n",
        "\n",
        "plt.subplot(2, 2, 1)\n",
        "sns.histplot(data=df, x='idade', bins=10, kde=True)\n",
        "plt.title('Distribuição da Idade')"
      ],
      "metadata": {
        "id": "lvY2EuuYTsv2"
      },
      "execution_count": null,
      "outputs": []
    },
    {
      "cell_type": "code",
      "source": [
        "plt.subplot(2, 2, 2)\n",
        "sns.histplot(data=df, x='saldo_conta', bins=10, kde=True)\n",
        "plt.title('Distribuição do Saldo da Conta')\n"
      ],
      "metadata": {
        "id": "vgmlAJiRT6vM"
      },
      "execution_count": null,
      "outputs": []
    },
    {
      "cell_type": "code",
      "source": [
        "\n",
        "plt.subplot(2, 2, 3)\n",
        "sns.histplot(data=df, x='ultima_compra', bins=10, kde=True)\n",
        "plt.title('Distribuição da Última Compra')\n",
        "\n"
      ],
      "metadata": {
        "id": "Ylub11i5UHfw"
      },
      "execution_count": null,
      "outputs": []
    },
    {
      "cell_type": "code",
      "source": [
        "plt.subplot(2, 2, 4)\n",
        "sns.countplot(data=df, x='churn')\n",
        "plt.title('Distribuição de Churn (0 - Não Churn, 1 - Churn)')\n",
        "\n",
        "plt.tight_layout()\n",
        "plt.show()\n",
        "\n"
      ],
      "metadata": {
        "id": "Rvb8mPQ_UO10"
      },
      "execution_count": null,
      "outputs": []
    },
    {
      "cell_type": "code",
      "source": [
        "# Verificando correlações entre variáveis\n",
        "correlation_matrix = df.corr()\n",
        "plt.figure(figsize=(8, 6))\n",
        "sns.heatmap(correlation_matrix, annot=True, cmap='coolwarm', center=0)\n",
        "plt.title('Matriz de Correlação')\n",
        "plt.show()"
      ],
      "metadata": {
        "id": "J8AtBhrqUQr2"
      },
      "execution_count": null,
      "outputs": []
    },
    {
      "cell_type": "markdown",
      "source": [
        "Estamos usando as bibliotecas matplotlib e seaborn para criar visualizações que nos ajudarão a entender melhor os dados fictícios gerados. Estamos visualizando a distribuição das variáveis ​​de idade, saldo da conta e última compra, além de uma contagem de churn (0 - Não Churn, 1 - Churn).\n",
        "\n",
        "Também estamos criando uma matriz de variação para identificar possíveis correlações entre as variáveis. A matriz de dinâmica nos ajuda a entender se há alguma relação linear entre as variáveis. Quanto mais próximo o valor for de 1 ou -1, mais forte será a positiva ou negativa, respectivamente.\n",
        "\n"
      ],
      "metadata": {
        "id": "9x726VsKUct5"
      }
    },
    {
      "cell_type": "code",
      "source": [],
      "metadata": {
        "id": "1F5n7efuUfWF"
      },
      "execution_count": null,
      "outputs": []
    }
  ]
}