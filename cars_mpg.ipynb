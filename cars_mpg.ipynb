{
  "nbformat": 4,
  "nbformat_minor": 0,
  "metadata": {
    "colab": {
      "private_outputs": true,
      "provenance": [],
      "authorship_tag": "ABX9TyN8LU16WhSmuhp0TSbzWAw5",
      "include_colab_link": true
    },
    "kernelspec": {
      "name": "python3",
      "display_name": "Python 3"
    },
    "language_info": {
      "name": "python"
    }
  },
  "cells": [
    {
      "cell_type": "markdown",
      "metadata": {
        "id": "view-in-github",
        "colab_type": "text"
      },
      "source": [
        "<a href=\"https://colab.research.google.com/github/alexcpass/python_ad/blob/main/cars_mpg.ipynb\" target=\"_parent\"><img src=\"https://colab.research.google.com/assets/colab-badge.svg\" alt=\"Open In Colab\"/></a>"
      ]
    },
    {
      "cell_type": "markdown",
      "source": [
        "# *A simple project on top of the Google Dataset 'cars' file (subject to improvements)*"
      ],
      "metadata": {
        "id": "4kplpop0nMRD"
      }
    },
    {
      "cell_type": "markdown",
      "source": [
        "#Cars (mpg)"
      ],
      "metadata": {
        "id": "HUdvjuGdzl6_"
      }
    },
    {
      "cell_type": "code",
      "execution_count": null,
      "metadata": {
        "id": "yYmWGTlM5Q__"
      },
      "outputs": [],
      "source": [
        "import numpy as np\n",
        "import pandas as pd\n",
        "from matplotlib import pyplot as plt\n",
        "import seaborn as sns\n",
        "import csv\n",
        "import openpyxl"
      ]
    },
    {
      "cell_type": "code",
      "source": [
        "sns.get_dataset_names()"
      ],
      "metadata": {
        "id": "zVr7H1x3yHd_"
      },
      "execution_count": null,
      "outputs": []
    },
    {
      "cell_type": "code",
      "source": [
        "cars = sns.load_dataset(\"mpg\")\n",
        "cars.head()"
      ],
      "metadata": {
        "id": "DHclnZaUyPRY"
      },
      "execution_count": null,
      "outputs": []
    },
    {
      "cell_type": "code",
      "source": [
        "import pandas as pd\n",
        "\n",
        "cars.to_csv('cars.csv', index=True, float_format='%d')\n"
      ],
      "metadata": {
        "id": "DCjyG2M_CY4r"
      },
      "execution_count": null,
      "outputs": []
    },
    {
      "cell_type": "code",
      "source": [
        "cars.shape"
      ],
      "metadata": {
        "id": "M7WegGs6zOAG"
      },
      "execution_count": null,
      "outputs": []
    },
    {
      "cell_type": "code",
      "source": [
        "cars.info()"
      ],
      "metadata": {
        "id": "z8l3tnPQ0Dfk"
      },
      "execution_count": null,
      "outputs": []
    },
    {
      "cell_type": "code",
      "source": [
        "cars.value_counts()"
      ],
      "metadata": {
        "id": "YggQzHqtzado"
      },
      "execution_count": null,
      "outputs": []
    },
    {
      "cell_type": "markdown",
      "source": [
        "#Data exploration / ETL"
      ],
      "metadata": {
        "id": "RAn-zpp5zq6j"
      }
    },
    {
      "cell_type": "code",
      "source": [
        "cars.head(1)"
      ],
      "metadata": {
        "id": "QrKqVAsn0K41"
      },
      "execution_count": null,
      "outputs": []
    },
    {
      "cell_type": "code",
      "source": [
        "cars = cars[cars['mpg'].notna()]\n",
        "cars = cars[cars['cylinders'].notna()]\n",
        "cars = cars[cars['displacement'].notna()]\n",
        "cars = cars[cars['horsepower'].notna()]\n",
        "cars = cars[cars['weight'].notna()]\n",
        "cars = cars[cars['acceleration'].notna()]\n",
        "cars = cars[cars['model_year'].notna()]\n",
        "cars = cars[cars['origin'].notna()]\n",
        "cars = cars[cars['name'].notna()]\n"
      ],
      "metadata": {
        "id": "5Y0_HOR3zuzU"
      },
      "execution_count": null,
      "outputs": []
    },
    {
      "cell_type": "code",
      "source": [
        "cars.shape"
      ],
      "metadata": {
        "id": "1QLAdbeV0mEo"
      },
      "execution_count": null,
      "outputs": []
    },
    {
      "cell_type": "code",
      "source": [
        "cars_acl = cars['acceleration'].describe().round(2)\n",
        "cars_acl"
      ],
      "metadata": {
        "id": "ESHvjz_40sv6"
      },
      "execution_count": null,
      "outputs": []
    },
    {
      "cell_type": "code",
      "source": [
        "cars_hp = cars['horsepower'].describe().round(2)\n",
        "cars_hp"
      ],
      "metadata": {
        "id": "dcf3O0yt0_YC"
      },
      "execution_count": null,
      "outputs": []
    },
    {
      "cell_type": "code",
      "source": [
        "cars_cylind = cars['cylinders'].describe().round(2)\n",
        "cars_cylind"
      ],
      "metadata": {
        "id": "edJHe-Ns1SmZ"
      },
      "execution_count": null,
      "outputs": []
    },
    {
      "cell_type": "code",
      "source": [
        "cars_weight = cars['weight'].describe().round(2)\n",
        "cars_weight"
      ],
      "metadata": {
        "id": "zLxo2xGs1m1m"
      },
      "execution_count": null,
      "outputs": []
    },
    {
      "cell_type": "code",
      "source": [
        "cars_disp = cars['displacement'].describe().round(2)\n",
        "cars_disp"
      ],
      "metadata": {
        "id": "2bbW7eCx1016"
      },
      "execution_count": null,
      "outputs": []
    },
    {
      "cell_type": "code",
      "source": [
        "cars_mpg = cars['mpg'].describe().round(2)\n",
        "cars_mpg"
      ],
      "metadata": {
        "id": "jUzOklFH2BOR"
      },
      "execution_count": null,
      "outputs": []
    },
    {
      "cell_type": "code",
      "source": [
        "cars_hp_weight = cars[['weight', 'horsepower','name']].groupby('name').agg('max')\n",
        "cars_hp_weight"
      ],
      "metadata": {
        "id": "IgvgDEm72TB5"
      },
      "execution_count": null,
      "outputs": []
    },
    {
      "cell_type": "markdown",
      "source": [
        "#Graphic models"
      ],
      "metadata": {
        "id": "OSMzX2nr8BsB"
      }
    },
    {
      "cell_type": "code",
      "source": [
        "cars_hp_acl = cars[['acceleration', 'horsepower','name']].groupby('name').agg('max')\n",
        "cars_hp_acl"
      ],
      "metadata": {
        "id": "LnXyKFle7ksV"
      },
      "execution_count": null,
      "outputs": []
    },
    {
      "cell_type": "code",
      "source": [
        "grafico = sns.lineplot(y=\"weight\", x=\"horsepower\", data= cars, color='springgreen')"
      ],
      "metadata": {
        "id": "5c8xrrt-3CLr"
      },
      "execution_count": null,
      "outputs": []
    },
    {
      "cell_type": "code",
      "source": [
        "grafico = sns.pairplot(data=cars_hp_weight)"
      ],
      "metadata": {
        "id": "sy7wdT-07FNc"
      },
      "execution_count": null,
      "outputs": []
    },
    {
      "cell_type": "code",
      "source": [
        "grafico = sns.pairplot(data=cars_hp_acl)"
      ],
      "metadata": {
        "id": "hvt-OYb54SXS"
      },
      "execution_count": null,
      "outputs": []
    },
    {
      "cell_type": "code",
      "source": [
        "fig = plt.figure(figsize=(10,2))\n",
        "eixo = fig.add_axes([0, 0, 1, 1])\n",
        "eixo.bar(cars['horsepower'], cars['weight'], color = 'crimson', lw = 0.4)\n",
        "eixo.set_title('HP x Weight', fontsize=15)\n",
        "\n",
        "eixo.set_ylabel('hp',fontsize=12 )\n",
        "eixo.set_xlabel('weight', fontsize=12)\n",
        "eixo.grid(True)"
      ],
      "metadata": {
        "id": "XneVvx4y8IHW"
      },
      "execution_count": null,
      "outputs": []
    },
    {
      "cell_type": "code",
      "source": [
        "cars['origin'].unique()"
      ],
      "metadata": {
        "id": "3oMUuftg_DXy"
      },
      "execution_count": null,
      "outputs": []
    },
    {
      "cell_type": "code",
      "source": [
        "import matplotlib.pyplot as plt\n",
        "\n",
        "fig = plt.figure(figsize=(13, 5))\n",
        "eixo = fig.add_axes([0, 0, 1, 1])\n",
        "\n",
        "cores = {'usa': 'red', 'europe': 'green', 'japan': 'blue'}  # Mapeamento de cores para cada origem\n",
        "\n",
        "# Atribuir cores com base na coluna 'origin'\n",
        "for origem in set(cars['origin']):\n",
        "    subset = cars[cars['origin'] == origem]\n",
        "    eixo.scatter(subset['horsepower'], subset['mpg'], color=cores[origem], label=origem)\n",
        "\n",
        "eixo.set_title('hp x mpg', fontsize=15, pad=10)\n",
        "eixo.set_xlabel('HP', fontsize=10)\n",
        "eixo.set_ylabel('mpg', fontsize=10)\n",
        "eixo.tick_params(labelsize=13)\n",
        "\n",
        "eixo.legend(title='Origem', loc='best')\n",
        "\n",
        "plt.show()\n"
      ],
      "metadata": {
        "id": "Z0xtjInd-4FG"
      },
      "execution_count": null,
      "outputs": []
    },
    {
      "cell_type": "markdown",
      "source": [
        "#Link to Power BI"
      ],
      "metadata": {
        "id": "wXiqv5GJlVni"
      }
    },
    {
      "cell_type": "code",
      "source": [
        "#https://app.powerbi.com/view?r=eyJrIjoiMWM4ZmU0NmEtODI2MS00NWUyLTkwMDgtZTE3ODE2ZThlY2YxIiwidCI6IjcxN2MzMTU1LTk4MGEtNDVjZS1iMjBjLWFiNmQwZTY0MmQxMSJ9"
      ],
      "metadata": {
        "id": "9SfVJyCE6hwg"
      },
      "execution_count": null,
      "outputs": []
    },
    {
      "cell_type": "markdown",
      "source": [],
      "metadata": {
        "id": "jxsIiPA7m8FF"
      }
    }
  ]
}