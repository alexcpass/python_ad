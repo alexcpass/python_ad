{
  "nbformat": 4,
  "nbformat_minor": 0,
  "metadata": {
    "colab": {
      "private_outputs": true,
      "provenance": [],
      "mount_file_id": "1kNtmpplvQzNTecdEoZylAwG02D-Lmaf0",
      "authorship_tag": "ABX9TyPSwYNWjvFqqdG3XkViBHSZ",
      "include_colab_link": true
    },
    "kernelspec": {
      "name": "python3",
      "display_name": "Python 3"
    },
    "language_info": {
      "name": "python"
    }
  },
  "cells": [
    {
      "cell_type": "markdown",
      "metadata": {
        "id": "view-in-github",
        "colab_type": "text"
      },
      "source": [
        "<a href=\"https://colab.research.google.com/github/alexcpass/python_ad/blob/main/alesp.ipynb\" target=\"_parent\"><img src=\"https://colab.research.google.com/assets/colab-badge.svg\" alt=\"Open In Colab\"/></a>"
      ]
    },
    {
      "cell_type": "markdown",
      "source": [
        "Trabalho realizado com parte do arquivo da ALESP (Assembleia Legislativa de SP). Comparativos entre Renda, Estado Civil, Sexo, etc.\n",
        "Arquivo criado a partir de uma VIEW em SQL dentro da plataforma MYSQL Workbench. Estão sendo considerados apenas pessoas com escolaridade parcial/ incompleta. Dados de 2022."
      ],
      "metadata": {
        "id": "TAoo6FAJSkRW"
      }
    },
    {
      "cell_type": "code",
      "execution_count": null,
      "metadata": {
        "id": "FvFe9VnOPW8-"
      },
      "outputs": [],
      "source": [
        "import numpy as np\n",
        "import pandas as pd\n",
        "from matplotlib import pyplot as plt\n",
        "import seaborn as sns\n",
        "import csv"
      ]
    },
    {
      "cell_type": "code",
      "source": [
        "df = pd.read_csv('/content/alesp.csv', sep=';')"
      ],
      "metadata": {
        "id": "G0GEPX3uPsOG"
      },
      "execution_count": null,
      "outputs": []
    },
    {
      "cell_type": "code",
      "source": [
        "df.head()"
      ],
      "metadata": {
        "id": "FoCHyZ7hPy9D"
      },
      "execution_count": null,
      "outputs": []
    },
    {
      "cell_type": "code",
      "source": [
        "df.info()"
      ],
      "metadata": {
        "id": "GXANgVaCP_94"
      },
      "execution_count": null,
      "outputs": []
    },
    {
      "cell_type": "markdown",
      "source": [
        "Comparativo entre Renda Anual por Sexo.\n",
        "1.   A renda anual das mulheres gira em torno de 40k e 60k anuais na maioria dos casos.\n",
        "2.   Os homens tem uma renda que gira em torno de 30k a 70k por ano na maioria dos casos.\n",
        "\n"
      ],
      "metadata": {
        "id": "OkS9hK1qS5o6"
      }
    },
    {
      "cell_type": "code",
      "source": [
        "cores = ('green','red')\n",
        "sns.boxplot(data=df, x='Sexo',y='Renda_Anual',palette=cores)\n",
        "plt.show()"
      ],
      "metadata": {
        "id": "oSaolTxHQYUL"
      },
      "execution_count": null,
      "outputs": []
    },
    {
      "cell_type": "code",
      "source": [
        "Ranking_renda = df[['Sexo', 'Renda_Anual',]].groupby('Sexo').agg('mean').sort_values(by='Sexo', ascending=True).iloc[0:10]"
      ],
      "metadata": {
        "id": "eOo1S843Q8gj"
      },
      "execution_count": null,
      "outputs": []
    },
    {
      "cell_type": "markdown",
      "source": [
        "Média Mensal Renda Anual - Deputados ALESP"
      ],
      "metadata": {
        "id": "nM1bo3LQRWO3"
      }
    },
    {
      "cell_type": "code",
      "source": [
        "Ranking_renda.round(2)"
      ],
      "metadata": {
        "id": "gABkUv0zRJMk"
      },
      "execution_count": null,
      "outputs": []
    },
    {
      "cell_type": "markdown",
      "source": [
        "Comparativo Renda x Qtd filhos\n",
        "1.   Pessoas sem filho tem renda até 50k anuais.\n",
        "2.   Pessoas com apenas 1 filho tem a maior renda -> mais que 60k/ano.\n",
        "\n"
      ],
      "metadata": {
        "id": "KTh2S9WkTS5E"
      }
    },
    {
      "cell_type": "code",
      "source": [
        "sns.barplot(data=df,x='Qtd_Filhos',y='Renda_Anual')"
      ],
      "metadata": {
        "id": "nqr43nCZRdzg"
      },
      "execution_count": null,
      "outputs": []
    },
    {
      "cell_type": "markdown",
      "source": [],
      "metadata": {
        "id": "RUOT6lkoShg9"
      }
    },
    {
      "cell_type": "markdown",
      "source": [
        "Deputados com maiores rendas anuais (10+)"
      ],
      "metadata": {
        "id": "fx4zYyB6VdkP"
      }
    },
    {
      "cell_type": "code",
      "source": [
        "maior_renda = df[['Nome','Sobrenome','Renda_Anual',]].groupby('Nome').agg('max').sort_values(by='Renda_Anual', ascending=False).iloc[0:10]"
      ],
      "metadata": {
        "id": "vfcMvWOOU5NL"
      },
      "execution_count": null,
      "outputs": []
    },
    {
      "cell_type": "code",
      "source": [
        "maior_renda"
      ],
      "metadata": {
        "id": "CCRkSLXNVIwo"
      },
      "execution_count": null,
      "outputs": []
    },
    {
      "cell_type": "markdown",
      "source": [
        "Maior renda entre as mulheres (Anual)"
      ],
      "metadata": {
        "id": "qjePxR27WhKX"
      }
    },
    {
      "cell_type": "code",
      "source": [
        "max_mulheres = df[['Sexo', 'Renda_Anual']].groupby('Sexo').agg('max').query('Sexo == \"F\"')"
      ],
      "metadata": {
        "id": "rDLKd-xDWFcb"
      },
      "execution_count": null,
      "outputs": []
    },
    {
      "cell_type": "code",
      "source": [
        "max_mulheres.round(2)"
      ],
      "metadata": {
        "id": "T5cZn_paWSN1"
      },
      "execution_count": null,
      "outputs": []
    },
    {
      "cell_type": "markdown",
      "source": [
        "Maior renda entre os homens (Anual)"
      ],
      "metadata": {
        "id": "qD8TAAKBSigq"
      }
    },
    {
      "cell_type": "code",
      "source": [
        "max_homens = df[['Sexo', 'Renda_Anual']].groupby('Sexo').agg('max').query('Sexo == \"M\"')"
      ],
      "metadata": {
        "id": "wcLLUINDWnU2"
      },
      "execution_count": null,
      "outputs": []
    },
    {
      "cell_type": "code",
      "source": [
        "max_homens.round(2)"
      ],
      "metadata": {
        "id": "KWKcMurHWsBu"
      },
      "execution_count": null,
      "outputs": []
    },
    {
      "cell_type": "markdown",
      "source": [
        "OBS: Não existe um padrão de renda uma vez que as variações ocorrem de acordo com o numero de horas trabalhadas, sessões, etc."
      ],
      "metadata": {
        "id": "mQO-DGXFW2AC"
      }
    },
    {
      "cell_type": "markdown",
      "source": [
        "O grafico abaixo amplia a visão sobre quantidade de filhos x Renda. Estamos considerando mais um diferencial que é o estado civil."
      ],
      "metadata": {
        "id": "eAzAfnfNXsK0"
      }
    },
    {
      "cell_type": "code",
      "source": [
        "sns.barplot(data=df, x='Qtd_Filhos', y='Renda_Anual', hue='Estado_Civil')"
      ],
      "metadata": {
        "id": "5pgE92ewXi2y"
      },
      "execution_count": null,
      "outputs": []
    },
    {
      "cell_type": "code",
      "source": [
        "cores_personalizadas = ['blue', 'yellow']\n",
        "sns.barplot(data=df,x='Qtd_Filhos',y='Renda_Anual',hue='Sexo',palette=cores_personalizadas)"
      ],
      "metadata": {
        "id": "IQPY7R_1YBKU"
      },
      "execution_count": null,
      "outputs": []
    },
    {
      "cell_type": "markdown",
      "source": [
        "Dados referentes a 46 deputados"
      ],
      "metadata": {
        "id": "EVHrr4wCaM5a"
      }
    },
    {
      "cell_type": "code",
      "source": [
        "print(df['Nome'].count())"
      ],
      "metadata": {
        "id": "4XMUcTT6Z_Y5"
      },
      "execution_count": null,
      "outputs": []
    }
  ]
}